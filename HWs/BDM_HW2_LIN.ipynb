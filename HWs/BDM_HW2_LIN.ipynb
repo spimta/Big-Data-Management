{
 "cells": [
  {
   "cell_type": "markdown",
   "metadata": {
    "id": "AsSA0dIMNznB"
   },
   "source": [
    "# Homework 2 - MapReduce\n",
    "\n",
    "There is only one task in this homework. You are asked to implement the Social Triangle example discussed in class. In particular, given the email dataset, please list all \"reciprocal\" relationships in the company. Recall that:\n",
    "\n",
    "If A emails B and B emails A, then A and B is *reciprocal*.\n",
    "\n",
    "If A emails B but B doesn’t email A, then A and B is *directed*.\n",
    "\n",
    "**Dataset:** We will use a subset of the open [Enron Email Dataset](https://www.cs.cmu.edu/~./enron/ \"Enron Email Dataset\"), which contains approximately 10,000 simplified email headers from the Enron Corporation. A subset of the data is available as **enron_mails_small.csv** as part of this notebook. The file contains 3 columns *Date*, *From*, and *To*. Their description is as follows:\n",
    "\n",
    "|Column name|Description|\n",
    "|--|--|\n",
    "|Date |The date and time of the email, in the format YYYY-MM-DD hh-mm-ss, <br />e.g. \"1998-10-30 07:43:00\" |\n",
    "|From |The sender email address, <br />e.g. \"mark.taylor@enron.com\" |\n",
    "|To | A list of recipients' email addresses separated by semicolons ';', <br />e.g. \"jennifer.fraser@enron.com;jeffrey.hodge@enron.com\" |\n",
    "\n",
    "Note that, we only care about users employed by Enron, i.e. only relationships where email addresses end with *'@enron.com'*.\n",
    "\n",
    "The expected output is also provided below. For each reciprocal relationship, please output a tuple consisting of two strings. The first one is always **'reciprocal'**. And the second one is a string showing the name of the two person in the following format: **'Jane Doe : John Doe'**. The names should be presented in the lexical order, i.e. there will not be a 'John Doe : Jane Doe' since 'Jane' is ordered before 'John.\n",
    "\n",
    "Though the dataset only contains email addresses, not actual names, we're assuming that the email aliases were created based on their name. For example:\n",
    "\n",
    "|Email Address|Converted Name|\n",
    "|--|--|\n",
    "|mark.taylor@enron.com|Mark Taylor|\n",
    "|alan.aronowitz@enron.com|Alan Aronowitz|\n",
    "|marc.r.cutler@enron.com|Marc R Cutler|\n",
    "|hugh@enron.com|Hugh|"
   ]
  },
  {
   "cell_type": "code",
   "execution_count": 95,
   "metadata": {
    "colab": {
     "base_uri": "https://localhost:8080/"
    },
    "id": "ozEACpiCPhw4",
    "outputId": "34c2a00a-fa16-4ae0-ffb6-ef3472719a72"
   },
   "outputs": [
    {
     "name": "stdout",
     "output_type": "stream",
     "text": [
      "Requirement already satisfied: mrjob in /usr/local/lib/python3.7/dist-packages (0.7.4)\n",
      "Requirement already satisfied: PyYAML>=3.10 in /usr/local/lib/python3.7/dist-packages (from mrjob) (3.13)\n",
      "Downloading...\n",
      "From: https://drive.google.com/uc?id=1sq4-zXn2Z82mdLSBBegEgsUsfqtgza-C\n",
      "To: /content/mapreduce.py\n",
      "100% 2.66k/2.66k [00:00<00:00, 4.62MB/s]\n",
      "Downloading...\n",
      "From: https://drive.google.com/uc?id=1It6GP8O2JqkmUtZKbYp1kpwpuwOXlLps\n",
      "To: /content/enron_mails_small.csv\n",
      "100% 857k/857k [00:00<00:00, 55.1MB/s]\n"
     ]
    }
   ],
   "source": [
    "!pip install mrjob\n",
    "!gdown --id 1sq4-zXn2Z82mdLSBBegEgsUsfqtgza-C -O mapreduce.py\n",
    "!gdown --id 1It6GP8O2JqkmUtZKbYp1kpwpuwOXlLps -O enron_mails_small.csv"
   ]
  },
  {
   "cell_type": "markdown",
   "metadata": {
    "id": "mGLN0vu0_xOI"
   },
   "source": [
    "## Task 1 (10 pts)\n",
    "You must complete the **MRFindReciprocal** class below (which is inherited from MRJob), and your code must run with the **mapreduce.py** package **mr.runJob()** as provided."
   ]
  },
  {
   "cell_type": "code",
   "execution_count": 96,
   "metadata": {
    "colab": {
     "base_uri": "https://localhost:8080/"
    },
    "id": "EtI-Q9tosVr1",
    "outputId": "3c1a0fc4-c013-46a1-d1e3-d2e493e9e9f7"
   },
   "outputs": [
    {
     "name": "stdout",
     "output_type": "stream",
     "text": [
      "35\n"
     ]
    },
    {
     "data": {
      "text/plain": [
       "[('reciprocal', 'Brenda Whitehead : Elizabeth Sager'),\n",
       " ('reciprocal', 'Carol Clair : Debra Perlingiere'),\n",
       " ('reciprocal', 'Carol Clair : Mark Taylor'),\n",
       " ('reciprocal', 'Carol Clair : Richard Sanders'),\n",
       " ('reciprocal', 'Carol Clair : Sara Shackleton'),\n",
       " ('reciprocal', 'Carol Clair : Tana Jones'),\n",
       " ('reciprocal', 'Debra Perlingiere : Kevin Ruscitti'),\n",
       " ('reciprocal', 'Drew Fossum : Susan Scott'),\n",
       " ('reciprocal', 'Elizabeth Sager : Janette Elbertson'),\n",
       " ('reciprocal', 'Elizabeth Sager : Mark Haedicke'),\n",
       " ('reciprocal', 'Elizabeth Sager : Mark Taylor'),\n",
       " ('reciprocal', 'Elizabeth Sager : Richard Sanders'),\n",
       " ('reciprocal', 'Eric Bass : Susan Scott'),\n",
       " ('reciprocal', 'Fletcher Sturm : Greg Whalley'),\n",
       " ('reciprocal', 'Fletcher Sturm : Sally Beck'),\n",
       " ('reciprocal', 'Gerald Nemec : Susan Scott'),\n",
       " ('reciprocal', 'Grant Masson : Vince Kaminski'),\n",
       " ('reciprocal', 'Greg Whalley : Richard Sanders'),\n",
       " ('reciprocal', 'Janette Elbertson : Mark Taylor'),\n",
       " ('reciprocal', 'Janette Elbertson : Richard Sanders'),\n",
       " ('reciprocal', 'Liz Taylor : Mark Haedicke'),\n",
       " ('reciprocal', 'Mark Haedicke : Mark Taylor'),\n",
       " ('reciprocal', 'Mark Haedicke : Michelle Cash'),\n",
       " ('reciprocal', 'Mark Haedicke : Richard Sanders'),\n",
       " ('reciprocal', 'Mark Haedicke : Twanda Sweet'),\n",
       " ('reciprocal', 'Mark Taylor : Sara Shackleton'),\n",
       " ('reciprocal', 'Mark Taylor : Tana Jones'),\n",
       " ('reciprocal', 'Michelle Cash : Twanda Sweet'),\n",
       " ('reciprocal', 'Pinnamaneni Krishnarao : Vince Kaminski'),\n",
       " ('reciprocal', 'Richard Sanders : Sara Shackleton'),\n",
       " ('reciprocal', 'Rosalee Fleming : Steven Kean'),\n",
       " ('reciprocal', 'Sara Shackleton : Tana Jones'),\n",
       " ('reciprocal', 'Shirley Crenshaw : Vince Kaminski'),\n",
       " ('reciprocal', 'Stinson Gibner : Vince Kaminski'),\n",
       " ('reciprocal', 'Vasant Shanbhogue : Vince Kaminski')]"
      ]
     },
     "execution_count": 96,
     "metadata": {},
     "output_type": "execute_result"
    }
   ],
   "source": [
    "import csv\n",
    "import mapreduce as mr\n",
    "from mrjob.job import MRJob\n",
    "from mrjob.step import MRStep\n",
    "\n",
    "################################\n",
    "### YOUR WORK SHOULD BE HERE ###\n",
    "################################\n",
    "class MRFindReciprocal(MRJob):\n",
    "  '''\n",
    "  PLEASE COMPLETE THIS CLASS. THIS SHOULD BE THE ONLY PLACE THAT YOU CAN EDIT.\n",
    "  THE INPUT OF YOUR MAPREDUCE JOB WOULD BE LINE OF TEXT WITHOUT '\\n'.\n",
    "  '''\n",
    "  def mapper1(self, _, line):\n",
    "    row = line.split(',')\n",
    "    if '@enron.com' in row[1]:\n",
    "      mailer = row[1].split('@')[0].replace('.', ' ').lower()\n",
    "      receiver_list = filter(lambda x: '@enron.com' in x, row[2].split(';')) # split the receiver's email\n",
    "      receiver_list = list(map(lambda x: x.split('@')[0].replace('.', ' ').lower(), receiver_list))\n",
    "      yield (mailer, receiver_list)\n",
    "\n",
    "  def reducer1(self, mailer, receiver_list):\n",
    "    yield (mailer, [item for sublist in receiver_list for item in sublist])\n",
    "\n",
    "  \n",
    "  def mapper2(self, mailer, receiver_list):\n",
    "    receiver_list = set(receiver_list)\n",
    "    mailer = mailer.title()\n",
    "    for i in receiver_list:\n",
    "      i = i.title()\n",
    "      if mailer < i:\n",
    "        from_to = (mailer, i)\n",
    "      else:\n",
    "        from_to = (i, mailer)\n",
    "      \n",
    "      yield (from_to, 1)\n",
    "\n",
    "  def reducer2(self, from_to, count):\n",
    "      yield (from_to, sum(count))\n",
    "\n",
    "  def mapper3(self, from_to, count):\n",
    "    if count > 1:\n",
    "      yield ('reciprocal', from_to[0]+' : '+from_to[1])\n",
    "\n",
    "\n",
    "  def steps(self):\n",
    "    return [\n",
    "      MRStep(mapper=self.mapper1, reducer=self.reducer1),\n",
    "      MRStep(mapper=self.mapper2, reducer=self.reducer2),\n",
    "      MRStep(mapper=self.mapper3), \n",
    "    ]\n",
    "\n",
    "\n",
    "###################################\n",
    "### DO NOT EDIT BELOW THIS LINE ###\n",
    "###################################\n",
    "job = MRFindReciprocal(args=[])\n",
    "with open('enron_mails_small.csv', 'r') as fi:\n",
    "  next(fi)\n",
    "  output = list(mr.runJob(enumerate(map(lambda x: x.strip(), fi)), job))\n",
    "\n",
    "print(len(output))\n",
    "output"
   ]
  },
  {
   "cell_type": "markdown",
   "metadata": {
    "id": "kTgKwfmP_hmR"
   },
   "source": [
    "## Task 2 (5 points)\n",
    "Please also convert your MR Job Class in Task 1 into a stand-alone `BDM_HW2.py` file that can be run directly with `python` similar to our Lab 3."
   ]
  },
  {
   "cell_type": "code",
   "execution_count": 97,
   "metadata": {
    "colab": {
     "base_uri": "https://localhost:8080/"
    },
    "id": "gNfYxI78_gdh",
    "outputId": "dba40976-c876-49d7-e6d2-131da708c826"
   },
   "outputs": [
    {
     "name": "stdout",
     "output_type": "stream",
     "text": [
      "No configs found; falling back on auto-configuration\n",
      "No configs specified for inline runner\n",
      "Creating temp directory /tmp/BDM_HW2.root.20211013.165233.070301\n",
      "Running step 1 of 3...\n",
      "Running step 2 of 3...\n",
      "Running step 3 of 3...\n",
      "job output is in /tmp/BDM_HW2.root.20211013.165233.070301/output\n",
      "Streaming final output from /tmp/BDM_HW2.root.20211013.165233.070301/output...\n",
      "\"reciprocal\"\t\"Brenda Whitehead : Elizabeth Sager\"\n",
      "\"reciprocal\"\t\"Carol Clair : Debra Perlingiere\"\n",
      "\"reciprocal\"\t\"Carol Clair : Mark Taylor\"\n",
      "\"reciprocal\"\t\"Carol Clair : Richard Sanders\"\n",
      "\"reciprocal\"\t\"Carol Clair : Sara Shackleton\"\n",
      "\"reciprocal\"\t\"Carol Clair : Tana Jones\"\n",
      "\"reciprocal\"\t\"Gerald Nemec : Susan Scott\"\n",
      "\"reciprocal\"\t\"Grant Masson : Vince Kaminski\"\n",
      "\"reciprocal\"\t\"Greg Whalley : Richard Sanders\"\n",
      "\"reciprocal\"\t\"Janette Elbertson : Mark Taylor\"\n",
      "\"reciprocal\"\t\"Janette Elbertson : Richard Sanders\"\n",
      "\"reciprocal\"\t\"Liz Taylor : Mark Haedicke\"\n",
      "\"reciprocal\"\t\"Mark Haedicke : Mark Taylor\"\n",
      "\"reciprocal\"\t\"Mark Haedicke : Michelle Cash\"\n",
      "\"reciprocal\"\t\"Mark Haedicke : Richard Sanders\"\n",
      "\"reciprocal\"\t\"Mark Haedicke : Twanda Sweet\"\n",
      "\"reciprocal\"\t\"Mark Taylor : Sara Shackleton\"\n",
      "\"reciprocal\"\t\"Mark Taylor : Tana Jones\"\n",
      "\"reciprocal\"\t\"Michelle Cash : Twanda Sweet\"\n",
      "\"reciprocal\"\t\"Pinnamaneni Krishnarao : Vince Kaminski\"\n",
      "\"reciprocal\"\t\"Richard Sanders : Sara Shackleton\"\n",
      "\"reciprocal\"\t\"Rosalee Fleming : Steven Kean\"\n",
      "\"reciprocal\"\t\"Sara Shackleton : Tana Jones\"\n",
      "\"reciprocal\"\t\"Shirley Crenshaw : Vince Kaminski\"\n",
      "\"reciprocal\"\t\"Stinson Gibner : Vince Kaminski\"\n",
      "\"reciprocal\"\t\"Vasant Shanbhogue : Vince Kaminski\"\n",
      "\"reciprocal\"\t\"Debra Perlingiere : Kevin Ruscitti\"\n",
      "\"reciprocal\"\t\"Drew Fossum : Susan Scott\"\n",
      "\"reciprocal\"\t\"Elizabeth Sager : Janette Elbertson\"\n",
      "\"reciprocal\"\t\"Elizabeth Sager : Mark Haedicke\"\n",
      "\"reciprocal\"\t\"Elizabeth Sager : Mark Taylor\"\n",
      "\"reciprocal\"\t\"Elizabeth Sager : Richard Sanders\"\n",
      "\"reciprocal\"\t\"Eric Bass : Susan Scott\"\n",
      "\"reciprocal\"\t\"Fletcher Sturm : Greg Whalley\"\n",
      "\"reciprocal\"\t\"Fletcher Sturm : Sally Beck\"\n",
      "Removing temp directory /tmp/BDM_HW2.root.20211013.165233.070301...\n"
     ]
    }
   ],
   "source": [
    "!python BDM_HW2.py enron_mails_small.csv"
   ]
  },
  {
   "cell_type": "markdown",
   "metadata": {
    "id": "B158-XDVl1wC"
   },
   "source": [
    "Code for BDM_HW2.py file"
   ]
  },
  {
   "cell_type": "code",
   "execution_count": null,
   "metadata": {
    "id": "BiFVMdmYl0Hs"
   },
   "outputs": [],
   "source": [
    "from mrjob.job import MRJob\n",
    "from mrjob.step import MRStep\n",
    "\n",
    "\n",
    "class MRFindReciprocal(MRJob):\n",
    "  '''\n",
    "  PLEASE COMPLETE THIS CLASS. THIS SHOULD BE THE ONLY PLACE THAT YOU CAN EDIT.\n",
    "  THE INPUT OF YOUR MAPREDUCE JOB WOULD BE LINE OF TEXT WITHOUT '\\n'.\n",
    "  '''\n",
    "  def mapper1(self, _, line):\n",
    "    row = line.split(',')\n",
    "    if '@enron.com' in row[1]:\n",
    "      mailer = row[1].split('@')[0].replace('.', ' ').lower()\n",
    "      receiver_list = filter(lambda x: '@enron.com' in x, row[2].split(';')) # split the receiver's email\n",
    "      receiver_list = list(map(lambda x: x.split('@')[0].replace('.', ' ').lower(), receiver_list))\n",
    "      yield (mailer, receiver_list)\n",
    "\n",
    "  def reducer1(self, mailer, receiver_list):\n",
    "    yield (mailer, [item for sublist in receiver_list for item in sublist])\n",
    "\n",
    "  \n",
    "  def mapper2(self, mailer, receiver_list):\n",
    "    receiver_list = set(receiver_list)\n",
    "    mailer = mailer.title()\n",
    "    for i in receiver_list:\n",
    "      i = i.title()\n",
    "      if mailer < i:\n",
    "        from_to = (mailer, i)\n",
    "      else:\n",
    "        from_to = (i, mailer)\n",
    "      \n",
    "      yield (from_to, 1)\n",
    "\n",
    "  def reducer2(self, from_to, count):\n",
    "      yield (from_to, sum(count))\n",
    "\n",
    "  def mapper3(self, from_to, count):\n",
    "    if count > 1:\n",
    "      yield ('reciprocal', from_to[0]+' : '+from_to[1])\n",
    "\n",
    "\n",
    "  def steps(self):\n",
    "    return [\n",
    "      MRStep(mapper=self.mapper1, reducer=self.reducer1),\n",
    "      MRStep(mapper=self.mapper2, reducer=self.reducer2),\n",
    "      MRStep(mapper=self.mapper3), \n",
    "    ]\n",
    "\n",
    "\n",
    "if __name__ == '__main__':\n",
    "    MRFindReciprocal.run()"
   ]
  }
 ],
 "metadata": {
  "colab": {
   "collapsed_sections": [],
   "name": "LIN_BDM_HW2",
   "provenance": []
  },
  "kernelspec": {
   "display_name": "Python 3",
   "language": "python",
   "name": "python3"
  },
  "language_info": {
   "codemirror_mode": {
    "name": "ipython",
    "version": 3
   },
   "file_extension": ".py",
   "mimetype": "text/x-python",
   "name": "python",
   "nbconvert_exporter": "python",
   "pygments_lexer": "ipython3",
   "version": "3.8.5"
  }
 },
 "nbformat": 4,
 "nbformat_minor": 1
}
