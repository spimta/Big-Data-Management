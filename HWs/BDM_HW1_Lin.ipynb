{
  "nbformat": 4,
  "nbformat_minor": 0,
  "metadata": {
    "colab": {
      "name": "LIN_BDM_HW1",
      "provenance": [],
      "collapsed_sections": []
    },
    "kernelspec": {
      "name": "python3",
      "display_name": "Python 3"
    }
  },
  "cells": [
    {
      "cell_type": "markdown",
      "metadata": {
        "id": "lvnKTXzOO5p_"
      },
      "source": [
        "# Homework 1 - Streaming and Higher Order Functions (15 pts)\n",
        "\n",
        "Please turn in your note book naming as *BDM\\_HW1\\_LastName.ipynb*."
      ]
    },
    {
      "cell_type": "markdown",
      "metadata": {
        "id": "aCy9ZXhXL9Lo"
      },
      "source": [
        "\n",
        "## Task 1 (2 points)\n",
        "\n",
        "Please complete the **lambda f1** definition below by filling in the _________ part. **f1** is expected to take a single string argument and returns whether the string can be converted to a natural number or zero. If it's possible, returns **'Number'**, otherwise returns **'Not a number'**. For example *'0123'* is a valid number 'Number', whereas *'0xff'* is not."
      ]
    },
    {
      "cell_type": "code",
      "metadata": {
        "id": "_ZGEp6bsL9Lp",
        "colab": {
          "base_uri": "https://localhost:8080/"
        },
        "outputId": "8f38fd39-bc76-4630-8ab5-1bfab7774d06"
      },
      "source": [
        "f1 = lambda x: 'Number' if x.isdigit() else 'Not a number'\n",
        "print(f1('1A'))\n",
        "print(f1('12'))\n",
        "print(f1('b1'))"
      ],
      "execution_count": null,
      "outputs": [
        {
          "output_type": "stream",
          "name": "stdout",
          "text": [
            "Not a number\n",
            "Number\n",
            "Not a number\n"
          ]
        }
      ]
    },
    {
      "cell_type": "markdown",
      "metadata": {
        "id": "tk3arVyKL9Lq"
      },
      "source": [
        "\n",
        "## Task 2 (2 points)\n",
        "\n",
        "Please complete the **lambda f2** definition below by filling in the _________ part. **f2** takes a single iterable (e.g. a list or a string), and returns the number of unique elements. Please see the sample output below."
      ]
    },
    {
      "cell_type": "code",
      "metadata": {
        "id": "OH6LEFSzL9Lr",
        "colab": {
          "base_uri": "https://localhost:8080/"
        },
        "outputId": "d443e28b-1cc6-4097-c1d6-e7a35b7d0bdb"
      },
      "source": [
        "f2 = lambda x: len(set(x))\n",
        "print(f2([1,2,3,4,1,5,2]))\n",
        "print(f2('hello world'))"
      ],
      "execution_count": null,
      "outputs": [
        {
          "output_type": "stream",
          "name": "stdout",
          "text": [
            "5\n",
            "8\n"
          ]
        }
      ]
    },
    {
      "cell_type": "markdown",
      "metadata": {
        "id": "MGjOHTNOL9Lr"
      },
      "source": [
        "\n",
        "## Task 3 (2 points)\n",
        "\n",
        "Please complete the **lambda f3** definition below by filling in the _________ part. **f3** takes two strings *x* and *y*, and return all the words in *x* that do not appear in *y*. Please note that the word comparison iscase insensitive. Samples area also provided below."
      ]
    },
    {
      "cell_type": "code",
      "metadata": {
        "id": "OgKRE6WvL9Ls",
        "colab": {
          "base_uri": "https://localhost:8080/"
        },
        "outputId": "080c8ab8-4aca-4781-b58c-b9e4b094b714"
      },
      "source": [
        "f3 = lambda x, y: [i for i in x.split(' ') if i not in y.split(' ')]\n",
        "print(f3('big data management and analysis', 'big data computing'))\n",
        "print(f3('this is a phrase', 'this is another phrase'))"
      ],
      "execution_count": null,
      "outputs": [
        {
          "output_type": "stream",
          "name": "stdout",
          "text": [
            "['management', 'and', 'analysis']\n",
            "['a']\n"
          ]
        }
      ]
    },
    {
      "cell_type": "markdown",
      "metadata": {
        "id": "4D1Sn_NiL9Ls"
      },
      "source": [
        "\n",
        "## Task 4 (9 points)\n",
        "\n",
        "We are greatly inspired by the [Consumer Complaints](https://github.com/InsightDataScience/consumer_complaints) challenge from [InsightDataScience](https://github.com/InsightDataScience/). In fact, we are going to tackle the same challenge but streaming. Please read through the challenge at the following link (the most important sections are “Input dataset” and “Expected output”):\n",
        "\n",
        "<https://github.com/InsightDataScience/consumer_complaints>\n",
        "\n",
        "Our problem is different than the one above in that the INPUT is also <ins>sorted by product (alphabetically) and year (ascending)</ins>, similar to the requested output format. You are asked to complete the generator below to produce the expected output. You should not edit any other code.\n",
        "\n",
        "### INPUT\n",
        "Your code will be evaluated against the original data set (in CSV format) downloaded from the below link (of course with a sorted version). For your convenience, a smaller version of the file is provided below for testing purposes.\n",
        "\n",
        "https://www.consumerfinance.gov/data-research/consumer-complaints/#download-the-data\n",
        "\n"
      ]
    },
    {
      "cell_type": "code",
      "metadata": {
        "id": "Xf4WQNpEi021",
        "colab": {
          "base_uri": "https://localhost:8080/"
        },
        "outputId": "bd3ab267-1c12-4c16-9bac-04d19723f1c5"
      },
      "source": [
        "!gdown --id 1-IeoZDwT5wQzBUpsaS5B6vTaP-2ZBkam -O complaints.csv\n",
        "!head -n 1 complaints.csv"
      ],
      "execution_count": null,
      "outputs": [
        {
          "output_type": "stream",
          "name": "stdout",
          "text": [
            "Downloading...\n",
            "From: https://drive.google.com/uc?id=1-IeoZDwT5wQzBUpsaS5B6vTaP-2ZBkam\n",
            "To: /content/complaints.csv\n",
            "100% 3.91M/3.91M [00:00<00:00, 34.1MB/s]\n",
            "Date received,Product,Sub-product,Issue,Sub-issue,Consumer complaint narrative,Company public response,Company,State,ZIP code,Tags,Consumer consent provided?,Submitted via,Date sent to company,Company response to consumer,Timely response?,Consumer disputed?,Complaint ID\n"
          ]
        }
      ]
    },
    {
      "cell_type": "code",
      "metadata": {
        "id": "28mcMPLZUB6A"
      },
      "source": [
        "from functools import reduce\n",
        "from functools import cmp_to_key\n",
        "\n",
        "def modified_year(x):\n",
        "  x['Date received'] = x['Date received'].split('-')[0]\n",
        "  return x;\n",
        "\n",
        "def add_count(x):\n",
        "  x['Count'] = 1\n",
        "  return x\n",
        "\n",
        "def merge_record(x, y):\n",
        "  for rec in x:\n",
        "    if rec['Product'] == y['Product'] and rec['Date received'] == y['Date received'] and rec['Company'] == y['Company']:\n",
        "      rec['Count'] += 1\n",
        "      return x\n",
        "  \n",
        "  x.append(y)\n",
        "  return x\n",
        "\n",
        "def count_company(rec):\n",
        "  num = reduce(lambda x: x+1, filter(lambda x: x['Product'] == rec['Product'] and x['year'] == rec['year'], data4), 0)\n",
        "  rec['Count company'] = num\n",
        "  return rec\n",
        "\n",
        "\n",
        "def delete_key(x):\n",
        "  del x['Company']\n",
        "  del x['Count']\n",
        "  del x['Percentage']\n",
        "  return x\n",
        "\n",
        "\n",
        "def merge_result(x, y):\n",
        "  for i in x:\n",
        "    if i['Product'] == y['Product'] and i['Date received'] == y['Date received']:\n",
        "      return x;\n",
        "  x.append(y)\n",
        "  return x\n",
        "\n",
        "\n",
        "def task4(reader):\n",
        "  # YOU CAN ONLY EDIT CODE BELOW THIS LINE\n",
        "  # Note: below is just an example, and not correct\n",
        "  \n",
        "  # modified the date\n",
        "  reader = map(modified_year, reader)\n",
        "  reader = map(add_count, reader)\n",
        "  reader = reduce(merge_record, reader, [])\n",
        "  \n",
        "  # count # of company to be complained for each product and year\n",
        "  # count total cases for each product and year\n",
        "  # calculate percentage for each comapny to be complained in that product and year\n",
        "  for row in reader:\n",
        "    row['Count company'] = len(list(filter(lambda x: x['Product'] == row['Product'] and x['Date received'] == row['Date received'], reader)))\n",
        "    row['Total count'] = reduce(lambda x,y: x+y, map(lambda x: x['Count'], filter(lambda x: x['Product'] == row['Product'] and x['Date received'] == row['Date received'], reader)), 0)\n",
        "    row['Percentage'] = int(round(row['Count'] / row['Total count'], 2)*100)\n",
        "\n",
        "  # find the highest percentage of company correspond to product and year for each row\n",
        "  for row in reader:\n",
        "    row['Highest percentage'] = max(list(map(lambda x: x['Percentage'], filter(lambda x: x['Product'] == row['Product'] and x['Date received'] == row['Date received'], reader))))\n",
        "\n",
        "  reader = reduce(merge_result, map(delete_key, reader), [])\n",
        "\n",
        "  for row in reader: # this line should stay the same\n",
        "    yield [row['Product'].lower(), row['Date received'], row['Total count'], row['Count company'], row['Highest percentage']]\n",
        "\n"
      ],
      "execution_count": null,
      "outputs": []
    },
    {
      "cell_type": "code",
      "metadata": {
        "colab": {
          "base_uri": "https://localhost:8080/"
        },
        "id": "WCjb_EdAiJ4H",
        "outputId": "595e19e9-e95d-4023-ef25-cc96d48a324f"
      },
      "source": [
        "def task4(reader):\n",
        "  next_row=next(reader)\n",
        "  product=next_row['Product'].lower()\n",
        "  year = next_row['Date received'].split('-')[0]\n",
        "  complaint=1\n",
        "  company={next_row['Company']:1}\n",
        "\n",
        "  for row in reader:\n",
        "    if year == row['Date received'].split('-')[0] and next_row['Company'] != row['Company']:\n",
        "      complaint += 1\n",
        "      company[row['Company']]=company.get(row['Company'],0)+1\n",
        "    else:\n",
        "      yield [product, year, complaint, max(company.values()), round(max(company.values())/complaint*100)]\n",
        "      product=row['Product'].lower()\n",
        "      year = row['Date received'].split('-')[0]\n",
        "      complaint=1\n",
        "      company[row['Company']]=company.get(row['Company'],0)+1\n",
        "\n",
        "\n",
        "# DO NOT EDIT THIS CELL, YOU CAN RUN TO QUICKLY CHECK YOUR RESULTS\n",
        "\n",
        "import csv\n",
        "\n",
        "with open('complaints.csv', 'r') as fi, open('output.csv', 'w') as fo:\n",
        "  reader = csv.DictReader(fi)\n",
        "  writer = csv.writer(fo)\n",
        "  for row in task4(reader):\n",
        "    writer.writerow(row)\n",
        "\n",
        "!head output.csv"
      ],
      "execution_count": null,
      "outputs": [
        {
          "output_type": "execute_result",
          "data": {
            "text/plain": [
              "<generator object task4 at 0x7fb1338d58d0>"
            ]
          },
          "metadata": {},
          "execution_count": 77
        }
      ]
    },
    {
      "cell_type": "code",
      "metadata": {
        "id": "vdF8fvHjTScK"
      },
      "source": [
        "# DO NOT EDIT THIS CELL, YOU CAN RUN TO QUICKLY CHECK YOUR RESULTS\n",
        "\n",
        "import csv\n",
        "\n",
        "with open('complaints.csv', 'r') as fi, open('output.csv', 'w') as fo:\n",
        "  reader = csv.DictReader(fi)\n",
        "  writer = csv.writer(fo)\n",
        "  task4(reader)\n",
        "  #for row in task4(reader):\n",
        "    #writer.writerow(row)\n",
        "\n",
        "#!head output.csv"
      ],
      "execution_count": null,
      "outputs": []
    }
  ]
}