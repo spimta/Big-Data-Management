{
  "nbformat": 4,
  "nbformat_minor": 0,
  "metadata": {
    "colab": {
      "name": "LIN_BDM_Lab1_Streaming.ipynb",
      "provenance": [],
      "collapsed_sections": []
    },
    "kernelspec": {
      "name": "python3",
      "display_name": "Python 3"
    }
  },
  "cells": [
    {
      "cell_type": "markdown",
      "metadata": {
        "id": "Aa5dSThSeWMS"
      },
      "source": [
        "# Lab 1 - Streaming\n",
        "\n",
        "This lab is for practicing Python’s *generators* and the design of *streaming* algorithms in general. We’re going to use two Citibike's data sets: **citibike.csv** and **citibike_docking_events.csv**. In the next cells, we are going to retrieve the files to be used for this notebook."
      ]
    },
    {
      "cell_type": "code",
      "metadata": {
        "id": "X5RmLp5Beg5X"
      },
      "source": [
        "from pydrive.auth import GoogleAuth\n",
        "from pydrive.drive import GoogleDrive\n",
        "from google.colab import auth\n",
        "from oauth2client.client import GoogleCredentials\n",
        "\n",
        "# Authenticate and create the PyDrive client\n",
        "auth.authenticate_user()\n",
        "gauth = GoogleAuth()\n",
        "gauth.credentials = GoogleCredentials.get_application_default()\n",
        "drive = GoogleDrive(gauth)"
      ],
      "execution_count": null,
      "outputs": []
    },
    {
      "cell_type": "code",
      "metadata": {
        "id": "dohszVy5e7gJ"
      },
      "source": [
        "drive.CreateFile({'id': '1I8eqA1Zy3vFq4mN8z0ZRl7ABXrdzCRYI'}).GetContentFile('citibike.csv')\n",
        "drive.CreateFile({'id': '13FE-5B9pnX52XH5-UqcBzFLqaTfeBP_k'}).GetContentFile('citibike_docking_events.csv')"
      ],
      "execution_count": null,
      "outputs": []
    },
    {
      "cell_type": "markdown",
      "metadata": {
        "id": "z0-vsHfZx7-u"
      },
      "source": [
        "The above works for files that are shared with specific groups or persons. For files that are shared with anyone with link, we can simply run the two lines below without the need of authorization."
      ]
    },
    {
      "cell_type": "code",
      "metadata": {
        "id": "7gXeU8mpyO5s"
      },
      "source": [
        "!gdown --id 1I8eqA1Zy3vFq4mN8z0ZRl7ABXrdzCRYI -O citibike.csv\n",
        "!gdown --id 13FE-5B9pnX52XH5-UqcBzFLqaTfeBP_k -O citibike_docking_events.csv"
      ],
      "execution_count": null,
      "outputs": []
    },
    {
      "cell_type": "markdown",
      "metadata": {
        "id": "WwvX6wvifVDS"
      },
      "source": [
        "## Task 1\n",
        "\n",
        "Plotting the number of trips taken by hour of the day in '''citibike.csv'''. In this task, we would write a generator to convert each line of an input citibike CSV into a stream of “hour of the day” values."
      ]
    },
    {
      "cell_type": "code",
      "metadata": {
        "id": "HmHd2ozFe9zY"
      },
      "source": [
        "import csv\n",
        "import datetime\n",
        "import dateutil\n",
        "%matplotlib inline\n",
        "import matplotlib.pyplot as plt\n",
        "import seaborn as sns\n",
        "sns.set_style(\"whitegrid\")\n",
        "sns.set_color_codes(\"muted\")"
      ],
      "execution_count": null,
      "outputs": []
    },
    {
      "cell_type": "code",
      "metadata": {
        "colab": {
          "base_uri": "https://localhost:8080/"
        },
        "id": "vacR8Z7QfDA4",
        "outputId": "771f83ca-908c-4c45-db8e-d3b683584cfc"
      },
      "source": [
        "## This is how we usually read data from a CSV file.\n",
        "## In this example, we extract the day of the week and\n",
        "## the hour of the day from the \"starttime\" field. We\n",
        "## print out these information for the line of the file.\n",
        "\n",
        "with open('citibike.csv', 'r') as fi:\n",
        "    reader = csv.DictReader(fi)\n",
        "    for row in reader:\n",
        "        starttime = dateutil.parser.parse(row['starttime'])\n",
        "        print(row['starttime'])\n",
        "        print(starttime.weekday(), starttime.hour)\n",
        "        break"
      ],
      "execution_count": null,
      "outputs": [
        {
          "output_type": "stream",
          "text": [
            "2015-02-01 00:00:00+00\n",
            "6 0\n"
          ],
          "name": "stdout"
        }
      ]
    },
    {
      "cell_type": "code",
      "metadata": {
        "id": "4nckuJdhfM-4"
      },
      "source": [
        "## If we want to create a generator to iterate through\n",
        "## through all the \"hour of the day\" in the files, we\n",
        "## can create a wrapper function around our approach\n",
        "## above. Note the use of \"yield\".\n",
        "\n",
        "def citibike2hod(filename):\n",
        "    with open(filename, 'r') as fi:\n",
        "        reader = csv.DictReader(fi)\n",
        "        for row in reader:\n",
        "            starttime = dateutil.parser.parse(row['starttime'])\n",
        "            yield (starttime.hour)"
      ],
      "execution_count": null,
      "outputs": []
    },
    {
      "cell_type": "code",
      "metadata": {
        "id": "HZ8HlAVVfFW5"
      },
      "source": [
        "## We can then use a similar method to task 1 to compute\n",
        "## and plot the histogram of the bike ride per hour.\n",
        "\n",
        "count = {}\n",
        "for hod in citibike2hod('citibike.csv'):\n",
        "    count[hod] = count.get(hod, 0)+1"
      ],
      "execution_count": null,
      "outputs": []
    },
    {
      "cell_type": "code",
      "metadata": {
        "colab": {
          "base_uri": "https://localhost:8080/"
        },
        "id": "jRkDdoh_JDOZ",
        "outputId": "15989771-427c-498d-c4f9-6210b88332a5"
      },
      "source": [
        "count"
      ],
      "execution_count": null,
      "outputs": [
        {
          "output_type": "execute_result",
          "data": {
            "text/plain": [
              "{0: 401,\n",
              " 1: 248,\n",
              " 2: 117,\n",
              " 3: 89,\n",
              " 4: 89,\n",
              " 5: 293,\n",
              " 6: 988,\n",
              " 7: 2037,\n",
              " 8: 3668,\n",
              " 9: 3108,\n",
              " 10: 2241,\n",
              " 11: 2090,\n",
              " 12: 2289,\n",
              " 13: 2443,\n",
              " 14: 2685,\n",
              " 15: 2856,\n",
              " 16: 3471,\n",
              " 17: 4788,\n",
              " 18: 4270,\n",
              " 19: 2839,\n",
              " 20: 1844,\n",
              " 21: 1343,\n",
              " 22: 1192,\n",
              " 23: 811}"
            ]
          },
          "metadata": {
            "tags": []
          },
          "execution_count": 6
        }
      ]
    },
    {
      "cell_type": "code",
      "metadata": {
        "colab": {
          "base_uri": "https://localhost:8080/",
          "height": 376
        },
        "id": "5gDj0OmwfHaI",
        "outputId": "929bb16d-1c49-4aaf-9a73-72d75201627c"
      },
      "source": [
        "plt.figure(figsize=(8, 6))\n",
        "ax = sns.barplot(x=list(count.keys()), y=list(count.values()), color=\"b\", ci=None)"
      ],
      "execution_count": null,
      "outputs": [
        {
          "output_type": "display_data",
          "data": {
            "image/png": "[encoded data removed]",
            "text/plain": [
              "<Figure size 576x432 with 1 Axes>"
            ]
          },
          "metadata": {
            "tags": []
          }
        }
      ]
    },
    {
      "cell_type": "markdown",
      "metadata": {
        "id": "rF2Yv9ULfXdq"
      },
      "source": [
        "## Task 2\n",
        "\n",
        "Our task is to write a generator to extract the first ride of the day from a Citibike data stream. The data stream is sorted based on starting times. The first ride of the day is interpreted as the ride with the earliest starting time of a day.\n",
        "\n",
        "We are given a template with the sample generator **firstRide**. The generator currently takes in **csv.DictReader** generator and output its first element. We need to adjust this generator to output the first ride of the day for the entire stream as specified above. The output of the generator must be in the same format as csv.DictReader. We can think of this generator as a filter only passing certain records through."
      ]
    },
    {
      "cell_type": "code",
      "metadata": {
        "colab": {
          "base_uri": "https://localhost:8080/"
        },
        "id": "3wvvcoemfQiI",
        "outputId": "97e6c34d-c178-4b9a-d465-b6a3fe197bbe"
      },
      "source": [
        "### NOTE: We need to change the body of the generator firstRide\n",
        "### in order to output trip record that appeared first in each day\n",
        "### using the same dict format as csv.DictReader.\n",
        "\n",
        "def firstRide(reader):\n",
        "    lastDay = None\n",
        "    for rider in reader:\n",
        "        day = datetime.datetime.strptime(rider['starttime'], '%Y-%m-%d %H:%M:%S+%f')\n",
        "        if lastDay!=day.date():\n",
        "            lastDay = day.date()\n",
        "            yield rider\n",
        "\n",
        "### NOTE: We SHOULD NOT modify the code below. If we\n",
        "### write our firstRide generator above correctly, the\n",
        "### code below will output the correct information\n",
        "\n",
        "with open('citibike.csv', 'r') as fi:\n",
        "    reader = csv.DictReader(fi)\n",
        "    for row in firstRide(reader):\n",
        "        print(','.join(map(row.get, reader.fieldnames)))\n"
      ],
      "execution_count": null,
      "outputs": [
        {
          "output_type": "stream",
          "text": [
            "1,,801,2015-02-01 00:00:00+00,2015-02-01 00:14:00+00,521,8 Ave & W 31 St,40.75044999,-73.99481051,423,W 54 St & 9 Ave,40.76584941,-73.98690506,17131,Subscriber,1978,2\n",
            "6442,,199,2015-02-02 00:02:00+00,2015-02-02 00:05:00+00,442,W 27 St & 7 Ave,40.746647,-73.993915,489,10 Ave & W 28 St,40.75066386,-74.00176802,20684,Subscriber,1992,1\n",
            "7901,,704,2015-02-03 00:00:00+00,2015-02-03 00:12:00+00,387,Centre St & Chambers St,40.71273266,-74.0046073,2008,Little West St & 1 Pl,40.70569254,-74.01677685,20328,Subscriber,1982,1\n",
            "12655,,146,2015-02-04 00:00:00+00,2015-02-04 00:02:00+00,237,E 11 St & 2 Ave,40.73047309,-73.98672378,438,St Marks Pl & 1 Ave,40.72779126,-73.98564945,15253,Subscriber,1969,1\n",
            "21628,,1034,2015-02-05 00:00:00+00,2015-02-05 00:17:00+00,497,E 17 St & Broadway,40.73704984,-73.99009296,461,E 20 St & 2 Ave,40.73587678,-73.98205027,20290,Subscriber,1971,1\n",
            "30836,,212,2015-02-06 00:01:00+00,2015-02-06 00:05:00+00,491,E 24 St & Park Ave S,40.74096374,-73.98602213,472,E 32 St & Park Ave,40.7457121,-73.98194829,19891,Subscriber,1989,1\n",
            "39412,,424,2015-02-07 00:00:00+00,2015-02-07 00:07:00+00,116,W 17 St & 8 Ave,40.74177603,-74.00149746,489,10 Ave & W 28 St,40.75066386,-74.00176802,19071,Subscriber,1963,1\n"
          ],
          "name": "stdout"
        }
      ]
    },
    {
      "cell_type": "markdown",
      "metadata": {
        "id": "64eOBdmnfgkC"
      },
      "source": [
        "## Task 3\n",
        "\n",
        "Our task is to **compute the maximum number of active \"citibikers\"** that were using the Citibike service at any point in time. This the same as computing the maximum number of citibikes that were checked out at a particular time. The input data set is **citibike_docking_events.csv**, which logged all docking and undocking events at all Citibike stations. The description of the fields in this file is as follows:\n",
        "\n",
        "|Column name|Description|\n",
        "|--|--|\n",
        "|time |The timestamp of the event. All events are sorted increasingly by their timestamps. |\n",
        "|bikeid |The unique ID of the bike involved in this event. |\n",
        "|station_id |The station ID, where the event happened. |\n",
        "|event |A string of either *\"dock\"* or *\"undock\"* for describing the drop-off or pick-up event, respectively. |\n",
        "\n",
        "For example, let's assume that on *Feb-01-2015*, there was a user that picked a bike at the station ID *521* at midnight and dropped it at the station ID *423* at 14 minutes past midnight. If the bike that this customer used has the ID of *17131*, then we should see two events being logged in this data set as:\n",
        "\n",
        "<pre>\n",
        "...\n",
        "2015-02-01 00:00:00+00,17131,521,undock\n",
        "...\n",
        "2015-02-01 00:14:00+00,17131,423,dock\n",
        "...\n",
        "</pre>\n",
        "\n",
        "We are given the above data set in a streaming fashion (reading in row by row), and must design a streaming algorithm that uses the least possible additional memory to compute the maximum number of active users of the Citibike service. Please modify the code snippet below to complete this task. The code should only output a single number, which is the number of active users. It is allowable to add additional initialization codes outside of the for loop as needed."
      ]
    },
    {
      "cell_type": "code",
      "metadata": {
        "colab": {
          "base_uri": "https://localhost:8080/"
        },
        "id": "XhuUAVDvfddo",
        "outputId": "bdafe7c3-8476-4708-dae8-d1cb5791ea53"
      },
      "source": [
        "def csvRows(filename):\n",
        "    with open(filename, 'r') as fi:\n",
        "        reader = csv.DictReader(fi)\n",
        "        for row in reader:\n",
        "            yield row\n",
        "\n",
        "activeUsers = 0\n",
        "maxActiveUsers,maxTime = 0,None\n",
        "for row in csvRows('citibike_docking_events.csv'):\n",
        "    if row['event']=='undock':\n",
        "        activeUsers += 1\n",
        "        if activeUsers>maxActiveUsers:\n",
        "            maxActiveUsers,maxTime = activeUsers,row['time']\n",
        "    else:\n",
        "        activeUsers -= 1\n",
        "    \n",
        "print(maxActiveUsers)\n",
        "print(maxTime)"
      ],
      "execution_count": null,
      "outputs": [
        {
          "output_type": "stream",
          "text": [
            "250\n",
            "2015-02-05 08:55:00+00\n"
          ],
          "name": "stdout"
        }
      ]
    },
    {
      "cell_type": "markdown",
      "metadata": {
        "id": "GyJLQp8cf2Kz"
      },
      "source": [
        "## Task 4\n",
        "\n",
        "The objective of this task is identical to Task 3's but we are asked to use the **citibike.csv** data set instead of the docking events. The main difference (and challenge) is that both pick-up and drop-off event for each trip is now presented as a single record, thus, the drop-off events are not sorted by their timestamps. We are again asked to do this in a streaming fashion that needs to minimize the amount of memory usage. Please modify the code below accordingly, and also with a brief explaination of the solution."
      ]
    },
    {
      "cell_type": "code",
      "metadata": {
        "colab": {
          "base_uri": "https://localhost:8080/"
        },
        "id": "Ue4t33vKfi95",
        "outputId": "6ff8d361-7fe4-4226-81d0-ad96707057d6"
      },
      "source": [
        "def csvRows(filename):\n",
        "    with open(filename, 'r') as fi:\n",
        "        reader = csv.DictReader(fi)\n",
        "        for row in reader:\n",
        "            yield row\n",
        "\n",
        "notYetReturn = []\n",
        "maxActiveUsers,maxTime = 0,None\n",
        "for row in csvRows('citibike.csv'):\n",
        "    starttime = row['starttime']\n",
        "    stoptime  = row['stoptime']\n",
        "    notYetReturn = filter(lambda x: x>starttime, notYetReturn)\n",
        "    notYetReturn = list(notYetReturn) + [stoptime]\n",
        "    if len(notYetReturn)>maxActiveUsers:\n",
        "        maxActiveUsers,maxTime = len(notYetReturn),starttime\n",
        "    \n",
        "print(maxActiveUsers)\n",
        "print(maxTime)"
      ],
      "execution_count": null,
      "outputs": [
        {
          "output_type": "stream",
          "text": [
            "250\n",
            "2015-02-05 08:55:00+00\n"
          ],
          "name": "stdout"
        }
      ]
    },
    {
      "cell_type": "code",
      "metadata": {
        "id": "zCVT_SRCf4Xa"
      },
      "source": [
        ""
      ],
      "execution_count": null,
      "outputs": []
    }
  ]
}