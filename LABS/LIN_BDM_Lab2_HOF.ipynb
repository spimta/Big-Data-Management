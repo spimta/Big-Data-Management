{
  "nbformat": 4,
  "nbformat_minor": 0,
  "metadata": {
    "kernelspec": {
      "name": "python3",
      "display_name": "Python 3"
    },
    "colab": {
      "name": "LIN_BDM_Lab2_HOF.ipynb",
      "provenance": [],
      "collapsed_sections": []
    }
  },
  "cells": [
    {
      "cell_type": "markdown",
      "metadata": {
        "id": "fziEwywHbY2V"
      },
      "source": [
        "# Lab 2 - Higher-Order Functions\n",
        "\n",
        "In this lab, we will practice Python's higher order functions, in particular, map(), filter() and reduce().\n",
        "\n",
        "Please complete all the tasks below.\n",
        "\n",
        "## Task 1\n",
        "\n",
        "You are provided a list of service status updates scraped from an MTA information website. Each update may indicate <i>Good Service</i>, <i>Planned Work</i>, or <i>Delays</i> for one or more subway lines. Our first objective is to list all the lines that are running with <i>Delays</i>. To guide you through the process, our problem are also split into smaller tasks."
      ]
    },
    {
      "cell_type": "code",
      "metadata": {
        "collapsed": true,
        "id": "G2yOBehdbY2b"
      },
      "source": [
        "from functools import reduce\n",
        "\n",
        "# This is your input data, a list of subway line status.\n",
        "# It is a list of string in a specific format\n",
        "\n",
        "status = [\n",
        "    '1,2,3 : Good Service',\n",
        "    '4,5,6 : Delays',\n",
        "    '7 : Good Service',\n",
        "    'A,C : Good Service',\n",
        "    'E : Planned Work',\n",
        "    'G : Delays',\n",
        "    'B,D,F,M : Good Service',\n",
        "    'J,Z : Delays',\n",
        "    'L : Good Service',\n",
        "    'N,Q,R : Planned Work',\n",
        "    'S : Good Service',\n",
        "]"
      ],
      "execution_count": null,
      "outputs": []
    },
    {
      "cell_type": "markdown",
      "metadata": {
        "id": "8NDOXI_LbY2d"
      },
      "source": [
        "### Sub-Task 1\n",
        "\n",
        "Please complete the lambda expression to filter only the status updates for the lines that run with <i>Delays</i>."
      ]
    },
    {
      "cell_type": "code",
      "metadata": {
        "id": "-F43ejkdbY2d",
        "colab": {
          "base_uri": "https://localhost:8080/"
        },
        "outputId": "bf3acda4-4153-46fa-cac9-6d8115086c01"
      },
      "source": [
        "delayUpdates = list(filter(lambda x: 'Delay' in x, status ))\n",
        "\n",
        "print(delayUpdates)\n",
        "\n",
        "# After this, your delayUpdates should be\n",
        "# ['4,5,6 : Delays', 'G : Delays', 'J,Z : Delays']"
      ],
      "execution_count": null,
      "outputs": [
        {
          "output_type": "stream",
          "name": "stdout",
          "text": [
            "['4,5,6 : Delays', 'G : Delays', 'J,Z : Delays']\n"
          ]
        }
      ]
    },
    {
      "cell_type": "markdown",
      "metadata": {
        "id": "gGbjL4_1bY2e"
      },
      "source": [
        "### Sub-Task 2\n",
        "\n",
        "Please complete the lambda expression below to convert each status line into a list of subway lines, i.e. <b><i>'4,5,6 : Delays'</i></b> would become <b><i>['4','5','6']</i></b>"
      ]
    },
    {
      "cell_type": "code",
      "metadata": {
        "id": "PSBC3ni-bY2e",
        "colab": {
          "base_uri": "https://localhost:8080/"
        },
        "outputId": "d42e7e3a-a794-4498-d3c8-fa30d6760e21"
      },
      "source": [
        "delayLineList = list(map(lambda x: x.split(\" : \")[0].split(','), delayUpdates))\n",
        "\n",
        "print(delayLineList)\n",
        "\n",
        "# After this, your delayLineList should be\n",
        "# [['4', '5', '6'], ['G'], ['J', 'Z']]"
      ],
      "execution_count": null,
      "outputs": [
        {
          "output_type": "stream",
          "name": "stdout",
          "text": [
            "[['4', '5', '6'], ['G'], ['J', 'Z']]\n"
          ]
        }
      ]
    },
    {
      "cell_type": "markdown",
      "metadata": {
        "id": "vuBXQFCTbY2e"
      },
      "source": [
        "### Sub-Task 3\n",
        "\n",
        "Please complete the reduce command below to convert each the list of subway lists given in <i>delayLineList</i> into a single list of subway lines running with delay."
      ]
    },
    {
      "cell_type": "code",
      "metadata": {
        "id": "PE8kWq4NbY2f",
        "colab": {
          "base_uri": "https://localhost:8080/"
        },
        "outputId": "5f866a4b-7dac-4113-abaf-59a8513c53d1"
      },
      "source": [
        "delayLines = reduce(lambda x,y: x+y, delayLineList, [])\n",
        "\n",
        "print(delayLines)\n",
        "\n",
        "# After this, your delayLines should be\n",
        "# ['4', '5', '6', 'G', 'J', 'Z']"
      ],
      "execution_count": null,
      "outputs": [
        {
          "output_type": "stream",
          "name": "stdout",
          "text": [
            "['4', '5', '6', 'G', 'J', 'Z']\n"
          ]
        }
      ]
    },
    {
      "cell_type": "markdown",
      "metadata": {
        "id": "1J38AMIjbY2f"
      },
      "source": [
        "### Sub-Task 4\n",
        "\n",
        "Please complete the reduce command below to count the number of lines in <b>delayLines</b>."
      ]
    },
    {
      "cell_type": "code",
      "metadata": {
        "id": "MYPBrOkubY2f",
        "colab": {
          "base_uri": "https://localhost:8080/"
        },
        "outputId": "8cf475f3-683f-4470-d965-3ebdf28fb521"
      },
      "source": [
        "delayLineCount = reduce(lambda x,y: x+1, delayLines, 0)\n",
        "\n",
        "print(delayLineCount)\n",
        "\n",
        "# After this, your delayLineCount should be\n",
        "# 6"
      ],
      "execution_count": null,
      "outputs": [
        {
          "output_type": "stream",
          "name": "stdout",
          "text": [
            "6\n"
          ]
        }
      ]
    },
    {
      "cell_type": "markdown",
      "metadata": {
        "id": "x0wFCtPUbY2g"
      },
      "source": [
        "## Task 2\n",
        "\n",
        "In this excercise, we would like to expand the combined service updatse into separate updates for each subway line. For example, instead of having a single line <b>'1,2,3 : Good Service'</b> to indicate that line 1, 2, and 3 are in good service, we would like to convert that into 3 separate updates: <b>'1 : Good Service'</b>, <b>'2 : Good Service'</b>, and <b>'3 : Good Service'</b>.\n",
        "\n",
        "You are tasked to write a chain of map(), filter(), and/or reduce() to convert the <b>status</b> variable into the list below. Please note that you may only use higher order functions without access to global variables. Your expression should contain only map(), filter() and/or reduce() and your custom function definitions."
      ]
    },
    {
      "cell_type": "code",
      "metadata": {
        "colab": {
          "base_uri": "https://localhost:8080/"
        },
        "id": "IiFpWm5w0x06",
        "outputId": "2dc8f2c2-f670-4210-e53f-c3d3b5731f36"
      },
      "source": [
        "lines, state = status[0].split(' : ')\n",
        "print(lines, state)\n",
        "lines = lines.split(',')\n",
        "print(lines)\n",
        "print(state)\n",
        "update = list(map(lambda x: x , lines))\n",
        "print(update)"
      ],
      "execution_count": null,
      "outputs": [
        {
          "output_type": "stream",
          "name": "stdout",
          "text": [
            "1,2,3 Good Service\n",
            "['1', '2', '3']\n",
            "Good Service\n",
            "['1', '2', '3']\n"
          ]
        }
      ]
    },
    {
      "cell_type": "code",
      "metadata": {
        "colab": {
          "base_uri": "https://localhost:8080/"
        },
        "id": "fo9sf06HzewD",
        "outputId": "74d94feb-099d-4aa2-eb24-e71a9d08f833"
      },
      "source": [
        "def splitLine(s):\n",
        "  lines, state = s.split(' : ')\n",
        "  return list(map(lambda x: ' : '.join((x,state)), lines.split(',')))\n",
        "  \n",
        "splitLine('1,2,3 : Good Service')"
      ],
      "execution_count": null,
      "outputs": [
        {
          "output_type": "execute_result",
          "data": {
            "text/plain": [
              "['1 : Good Service', '2 : Good Service', '3 : Good Service']"
            ]
          },
          "metadata": {},
          "execution_count": 9
        }
      ]
    },
    {
      "cell_type": "code",
      "metadata": {
        "id": "dFVRkD4GbY2g",
        "colab": {
          "base_uri": "https://localhost:8080/"
        },
        "outputId": "5f18637f-a7d9-4974-b56e-c0e8fc5e0c40"
      },
      "source": [
        "updates = reduce(lambda x,y: x+y, (map(splitLine, status)), [])\n",
        "\n",
        "updates"
      ],
      "execution_count": null,
      "outputs": [
        {
          "output_type": "execute_result",
          "data": {
            "text/plain": [
              "['1 : Good Service',\n",
              " '2 : Good Service',\n",
              " '3 : Good Service',\n",
              " '4 : Delays',\n",
              " '5 : Delays',\n",
              " '6 : Delays',\n",
              " '7 : Good Service',\n",
              " 'A : Good Service',\n",
              " 'C : Good Service',\n",
              " 'E : Planned Work',\n",
              " 'G : Delays',\n",
              " 'B : Good Service',\n",
              " 'D : Good Service',\n",
              " 'F : Good Service',\n",
              " 'M : Good Service',\n",
              " 'J : Delays',\n",
              " 'Z : Delays',\n",
              " 'L : Good Service',\n",
              " 'N : Planned Work',\n",
              " 'Q : Planned Work',\n",
              " 'R : Planned Work',\n",
              " 'S : Good Service']"
            ]
          },
          "metadata": {},
          "execution_count": 10
        }
      ]
    },
    {
      "cell_type": "markdown",
      "metadata": {
        "collapsed": true,
        "id": "r_XP2lTabY2h"
      },
      "source": [
        "## Task 3\n",
        "\n",
        "In this excercise, you are tasked to perform a similar task as in Task 3 of Lab 1 but extracting the birth year of the first 'Subscriber' ride of the day from the *citibike.csv*. However, instead of iterating through the stream using generators, you are asked to complete the task using higher order functions map(), filter() and/or reduce(). You are free to define additional functions to be used in your higher order functions, however, you are not allowed to use global variables within these functions without being passed in as arguments."
      ]
    },
    {
      "cell_type": "code",
      "metadata": {
        "id": "Xf4WQNpEi021",
        "colab": {
          "base_uri": "https://localhost:8080/"
        },
        "outputId": "da1b6ebd-c374-4952-b3e5-e32496cbc3ed"
      },
      "source": [
        "!gdown --id 1I8eqA1Zy3vFq4mN8z0ZRl7ABXrdzCRYI -O citibike.csv"
      ],
      "execution_count": null,
      "outputs": [
        {
          "output_type": "stream",
          "name": "stdout",
          "text": [
            "Downloading...\n",
            "From: https://drive.google.com/uc?id=1I8eqA1Zy3vFq4mN8z0ZRl7ABXrdzCRYI\n",
            "To: /content/citibike.csv\n",
            "\r0.00B [00:00, ?B/s]\r7.34MB [00:00, 72.2MB/s]\r8.16MB [00:00, 71.5MB/s]\n"
          ]
        }
      ]
    },
    {
      "cell_type": "code",
      "metadata": {
        "colab": {
          "base_uri": "https://localhost:8080/"
        },
        "id": "6JcO85Br5BCX",
        "outputId": "901c16b1-bfac-47d0-eee1-db6904e5aaad"
      },
      "source": [
        ""
      ],
      "execution_count": null,
      "outputs": [
        {
          "output_type": "execute_result",
          "data": {
            "text/plain": [
              "<csv.DictReader at 0x7fcffea9ecd0>"
            ]
          },
          "metadata": {},
          "execution_count": 31
        }
      ]
    },
    {
      "cell_type": "code",
      "metadata": {
        "id": "8VPvaIUdbY2h",
        "colab": {
          "base_uri": "https://localhost:8080/"
        },
        "outputId": "54d963a0-a446-4bc0-8fe9-a2c2689a91ca"
      },
      "source": [
        "import csv\n",
        "\n",
        "with open('citibike.csv','r') as fi:\n",
        "    reader = csv.DictReader(fi)\n",
        "    first_birth_years = YOUR_CODE_HERE\n",
        "\n",
        "print(list(first_birth_years))\n",
        "\n",
        "# After this, your first_birth_years should be"
      ],
      "execution_count": null,
      "outputs": [
        {
          "output_type": "stream",
          "text": [
            "[1978, 1992, 1982, 1969, 1971, 1989, 1963]\n"
          ],
          "name": "stdout"
        }
      ]
    }
  ]
}