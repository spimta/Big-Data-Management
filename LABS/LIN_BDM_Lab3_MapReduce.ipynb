{
  "nbformat": 4,
  "nbformat_minor": 0,
  "metadata": {
    "colab": {
      "name": "LIN_BDM_Lab3_MapReduce",
      "provenance": [],
      "collapsed_sections": []
    },
    "kernelspec": {
      "name": "python3",
      "display_name": "Python 3"
    }
  },
  "cells": [
    {
      "cell_type": "markdown",
      "metadata": {
        "id": "iTrFvJXKfYOW"
      },
      "source": [
        "# Lab 3 - MapReduce\n",
        "\n",
        "In this lab, we practice the MapReduce programming paradigm.\n",
        "\n",
        "We will complete the tasks using the accompanied *mapreduce* package (as **mapreduce.py**) and MRJob. Please download the **mapreduce.py** file from our online class resource page, and place it in the same folder with your notebook.\n",
        "\n",
        "For each invocation of an MapReduce job (with mr.run()), you are expected to supply a mapper, a reducer and/or a combiner as needed. Below are sample usage of the package:\n",
        "\n",
        "```python\n",
        "    # Run on input1 using your mapper1 and reducer1 function\n",
        "    output = list(mr.run(input1, mapper1, reducer1))\n",
        "\n",
        "    # Run on input2 using only your mapper2, no reduce phase\n",
        "    output = list(mr.run(enumerate(input2), mapper2, combiner2))\n",
        "    \n",
        "    # Run on input3 using 2 nested MapReduce jobs\n",
        "    output = mr.run(mr.run(input3, mapper3, reducer3), mapper4)\n",
        "```\n",
        "    \n",
        "Please note that the input must be an iteratable of **key/value pairs**. If your inpu tdata does not have a key, you can simply add a null or index key through **enumerator(input)**. The output of the mr.run() is always a **generator**. You have to cast it to a list if you'd like to view, index or print it out.\n",
        "\n",
        "We will also need **book.txt** and **citibike.csv** to be downloaded."
      ]
    },
    {
      "cell_type": "code",
      "metadata": {
        "colab": {
          "base_uri": "https://localhost:8080/"
        },
        "id": "5LVOMbEOfqNl",
        "outputId": "47f7ae05-7e0d-47a2-f9ca-035a3d9553cc"
      },
      "source": [
        "!pip install mrjob"
      ],
      "execution_count": null,
      "outputs": [
        {
          "output_type": "stream",
          "name": "stdout",
          "text": [
            "Collecting mrjob\n",
            "  Downloading mrjob-0.7.4-py2.py3-none-any.whl (439 kB)\n",
            "\u001b[?25l\r\u001b[K     |▊                               | 10 kB 19.9 MB/s eta 0:00:01\r\u001b[K     |█▌                              | 20 kB 25.4 MB/s eta 0:00:01\r\u001b[K     |██▎                             | 30 kB 14.0 MB/s eta 0:00:01\r\u001b[K     |███                             | 40 kB 10.5 MB/s eta 0:00:01\r\u001b[K     |███▊                            | 51 kB 5.7 MB/s eta 0:00:01\r\u001b[K     |████▌                           | 61 kB 5.8 MB/s eta 0:00:01\r\u001b[K     |█████▏                          | 71 kB 6.3 MB/s eta 0:00:01\r\u001b[K     |██████                          | 81 kB 5.8 MB/s eta 0:00:01\r\u001b[K     |██████▊                         | 92 kB 4.9 MB/s eta 0:00:01\r\u001b[K     |███████▌                        | 102 kB 5.4 MB/s eta 0:00:01\r\u001b[K     |████████▏                       | 112 kB 5.4 MB/s eta 0:00:01\r\u001b[K     |█████████                       | 122 kB 5.4 MB/s eta 0:00:01\r\u001b[K     |█████████▊                      | 133 kB 5.4 MB/s eta 0:00:01\r\u001b[K     |██████████▍                     | 143 kB 5.4 MB/s eta 0:00:01\r\u001b[K     |███████████▏                    | 153 kB 5.4 MB/s eta 0:00:01\r\u001b[K     |████████████                    | 163 kB 5.4 MB/s eta 0:00:01\r\u001b[K     |████████████▊                   | 174 kB 5.4 MB/s eta 0:00:01\r\u001b[K     |█████████████▍                  | 184 kB 5.4 MB/s eta 0:00:01\r\u001b[K     |██████████████▏                 | 194 kB 5.4 MB/s eta 0:00:01\r\u001b[K     |███████████████                 | 204 kB 5.4 MB/s eta 0:00:01\r\u001b[K     |███████████████▋                | 215 kB 5.4 MB/s eta 0:00:01\r\u001b[K     |████████████████▍               | 225 kB 5.4 MB/s eta 0:00:01\r\u001b[K     |█████████████████▏              | 235 kB 5.4 MB/s eta 0:00:01\r\u001b[K     |██████████████████              | 245 kB 5.4 MB/s eta 0:00:01\r\u001b[K     |██████████████████▋             | 256 kB 5.4 MB/s eta 0:00:01\r\u001b[K     |███████████████████▍            | 266 kB 5.4 MB/s eta 0:00:01\r\u001b[K     |████████████████████▏           | 276 kB 5.4 MB/s eta 0:00:01\r\u001b[K     |████████████████████▉           | 286 kB 5.4 MB/s eta 0:00:01\r\u001b[K     |█████████████████████▋          | 296 kB 5.4 MB/s eta 0:00:01\r\u001b[K     |██████████████████████▍         | 307 kB 5.4 MB/s eta 0:00:01\r\u001b[K     |███████████████████████         | 317 kB 5.4 MB/s eta 0:00:01\r\u001b[K     |███████████████████████▉        | 327 kB 5.4 MB/s eta 0:00:01\r\u001b[K     |████████████████████████▋       | 337 kB 5.4 MB/s eta 0:00:01\r\u001b[K     |█████████████████████████▍      | 348 kB 5.4 MB/s eta 0:00:01\r\u001b[K     |██████████████████████████      | 358 kB 5.4 MB/s eta 0:00:01\r\u001b[K     |██████████████████████████▉     | 368 kB 5.4 MB/s eta 0:00:01\r\u001b[K     |███████████████████████████▋    | 378 kB 5.4 MB/s eta 0:00:01\r\u001b[K     |████████████████████████████▎   | 389 kB 5.4 MB/s eta 0:00:01\r\u001b[K     |█████████████████████████████   | 399 kB 5.4 MB/s eta 0:00:01\r\u001b[K     |█████████████████████████████▉  | 409 kB 5.4 MB/s eta 0:00:01\r\u001b[K     |██████████████████████████████▋ | 419 kB 5.4 MB/s eta 0:00:01\r\u001b[K     |███████████████████████████████▎| 430 kB 5.4 MB/s eta 0:00:01\r\u001b[K     |████████████████████████████████| 439 kB 5.4 MB/s \n",
            "\u001b[?25hRequirement already satisfied: PyYAML>=3.10 in /usr/local/lib/python3.7/dist-packages (from mrjob) (3.13)\n",
            "Installing collected packages: mrjob\n",
            "Successfully installed mrjob-0.7.4\n"
          ]
        }
      ]
    },
    {
      "cell_type": "code",
      "metadata": {
        "id": "KjLap5JAgDuv",
        "colab": {
          "base_uri": "https://localhost:8080/"
        },
        "outputId": "977a9f9a-b66b-435e-8506-83d4f7e9bb2a"
      },
      "source": [
        "!gdown --id 1sq4-zXn2Z82mdLSBBegEgsUsfqtgza-C -O mapreduce.py\n",
        "!gdown --id 1qCQ6edyhTA1kqFWZf1y65ogidivDbBIT -O book.txt\n",
        "!gdown --id 1I8eqA1Zy3vFq4mN8z0ZRl7ABXrdzCRYI -O citibike.csv"
      ],
      "execution_count": null,
      "outputs": [
        {
          "output_type": "stream",
          "name": "stdout",
          "text": [
            "Downloading...\n",
            "From: https://drive.google.com/uc?id=1sq4-zXn2Z82mdLSBBegEgsUsfqtgza-C\n",
            "To: /content/mapreduce.py\n",
            "100% 2.66k/2.66k [00:00<00:00, 8.19MB/s]\n",
            "Downloading...\n",
            "From: https://drive.google.com/uc?id=1qCQ6edyhTA1kqFWZf1y65ogidivDbBIT\n",
            "To: /content/book.txt\n",
            "100% 259k/259k [00:00<00:00, 36.8MB/s]\n",
            "Downloading...\n",
            "From: https://drive.google.com/uc?id=1I8eqA1Zy3vFq4mN8z0ZRl7ABXrdzCRYI\n",
            "To: /content/citibike.csv\n",
            "100% 8.16M/8.16M [00:00<00:00, 38.2MB/s]\n"
          ]
        }
      ]
    },
    {
      "cell_type": "code",
      "metadata": {
        "id": "jJ_4RiIffYOg"
      },
      "source": [
        "import csv\n",
        "import mapreduce as mr"
      ],
      "execution_count": null,
      "outputs": []
    },
    {
      "cell_type": "markdown",
      "metadata": {
        "id": "d5FWGyRPfYOh"
      },
      "source": [
        "## Task 0\n",
        "\n",
        "Here is another concrete example on \"Word Count\" using the package. Assuming we have a text file named *book.txt*. Our task is to count the frequency of words in this document, and print the top 10. For illustration purposes, we use only the first 1000 lines of the book for counting."
      ]
    },
    {
      "cell_type": "code",
      "metadata": {
        "colab": {
          "base_uri": "https://localhost:8080/"
        },
        "id": "OFC82KkLfYOi",
        "outputId": "7efcd0d1-c602-44b3-b043-599c86581bad"
      },
      "source": [
        "with open('book.txt', 'r') as fi:\n",
        "    lines = [(i,line.strip()) for i,line in enumerate(fi) if i<1000]\n",
        "\n",
        "### After this, 'lines' stores a list of 1000 text lines\n",
        "def mapper(k1, line):\n",
        "    for word in line.strip().split(' '):\n",
        "        if len(word)>0:\n",
        "            yield (word, 1)\n",
        "    \n",
        "def reducer(word, counts):\n",
        "    yield (word, sum(counts))\n",
        "\n",
        "wCounts = list(mr.run(lines, mapper, reducer))\n",
        "sortedCounts = sorted(wCounts, key=lambda x: -x[1])\n",
        "sortedCounts[:10]"
      ],
      "execution_count": null,
      "outputs": [
        {
          "output_type": "execute_result",
          "data": {
            "text/plain": [
              "[('the', 360),\n",
              " ('of', 326),\n",
              " ('and', 246),\n",
              " ('a', 169),\n",
              " ('or', 161),\n",
              " ('to', 101),\n",
              " ('with', 100),\n",
              " ('in', 88),\n",
              " ('on', 67),\n",
              " ('as', 56)]"
            ]
          },
          "metadata": {},
          "execution_count": 5
        }
      ]
    },
    {
      "cell_type": "code",
      "metadata": {
        "colab": {
          "base_uri": "https://localhost:8080/"
        },
        "id": "KzrAz_8SRMMf",
        "outputId": "02cf8837-4238-4582-fcbf-ef83624f4b1f"
      },
      "source": [
        "!head -n 2 citibike.csv"
      ],
      "execution_count": null,
      "outputs": [
        {
          "output_type": "stream",
          "name": "stdout",
          "text": [
            "cartodb_id,the_geom,tripduration,starttime,stoptime,start_station_id,start_station_name,start_station_latitude,start_station_longitude,end_station_id,end_station_name,end_station_latitude,end_station_longitude,bikeid,usertype,birth_year,gender\n",
            "1,,801,2015-02-01 00:00:00+00,2015-02-01 00:14:00+00,521,8 Ave & W 31 St,40.75044999,-73.99481051,423,W 54 St & 9 Ave,40.76584941,-73.98690506,17131,Subscriber,1978,2\n"
          ]
        }
      ]
    },
    {
      "cell_type": "markdown",
      "metadata": {
        "id": "-q7maTHSfYOk"
      },
      "source": [
        "## Task 1\n",
        "\n",
        "We would like to write a MapReduce job to count the total number of trips involved at each station. For example, if a trip starts at station A and stops at station B, the trip will count for both A and B. The output must be tuples, each consisting of a station name and a count."
      ]
    },
    {
      "cell_type": "code",
      "metadata": {
        "colab": {
          "base_uri": "https://localhost:8080/",
          "height": 137
        },
        "id": "r-2bSj0QfYOl",
        "outputId": "3c16535c-61a1-4489-ac83-9ce1e3ddb354"
      },
      "source": [
        "def mapper1(station, row):\n",
        "  <CODE_HERE>\n",
        "\n",
        "def reducer1(station, counts):\n",
        "  <CODE_HERE>\n",
        "    \n",
        "with open('citibike.csv', 'r') as fi:\n",
        "    reader = enumerate(csv.DictReader(fi))\n",
        "    output1 = list(mr.run(reader, mapper1, reducer1))\n",
        "\n",
        "output1[:10]"
      ],
      "execution_count": null,
      "outputs": [
        {
          "output_type": "error",
          "ename": "SyntaxError",
          "evalue": "ignored",
          "traceback": [
            "\u001b[0;36m  File \u001b[0;32m\"<ipython-input-7-9b6436df06e0>\"\u001b[0;36m, line \u001b[0;32m2\u001b[0m\n\u001b[0;31m    <CODE_HERE>\u001b[0m\n\u001b[0m    ^\u001b[0m\n\u001b[0;31mSyntaxError\u001b[0m\u001b[0;31m:\u001b[0m invalid syntax\n"
          ]
        }
      ]
    },
    {
      "cell_type": "markdown",
      "metadata": {
        "id": "syxUY65ufYOl"
      },
      "source": [
        "\n",
        "## Task 2\n",
        "\n",
        "Below is an example of showing how to use nested jobs and jobs with mappers only using the mapreduce package, thus, no points are included. Our task here is that we would like to filter the output of Task 1 to display only those stations with more than 1000 trips involved, of course, using the MapReduce paradigm."
      ]
    },
    {
      "cell_type": "code",
      "metadata": {
        "colab": {
          "base_uri": "https://localhost:8080/",
          "height": 137
        },
        "id": "RsciZe4ufYOm",
        "outputId": "2dc20bf3-db43-40dd-a845-02fe212ab40e"
      },
      "source": [
        "def mapper2(station, count):\n",
        "  <CODE_HERE>\n",
        "\n",
        "with open('citibike.csv', 'r') as fi:\n",
        "    reader = enumerate(csv.DictReader(fi))\n",
        "    output2 = list(mr.run(mr.run(reader, mapper1, reducer1), mapper2))\n",
        "\n",
        "output2"
      ],
      "execution_count": null,
      "outputs": [
        {
          "output_type": "error",
          "ename": "SyntaxError",
          "evalue": "ignored",
          "traceback": [
            "\u001b[0;36m  File \u001b[0;32m\"<ipython-input-8-31fe18414a0b>\"\u001b[0;36m, line \u001b[0;32m2\u001b[0m\n\u001b[0;31m    <CODE_HERE>\u001b[0m\n\u001b[0m    ^\u001b[0m\n\u001b[0;31mSyntaxError\u001b[0m\u001b[0;31m:\u001b[0m invalid syntax\n"
          ]
        }
      ]
    },
    {
      "cell_type": "markdown",
      "metadata": {
        "id": "3FYBZxIafYOn"
      },
      "source": [
        "\n",
        "## Task 3\n",
        "\n",
        "We would like to count the number of trips taken between pairs of stations. Trips taken from station A to station B or  from station B to station A are both counted towards the station pair A and B. Please note that the station pair shoud be identified by station names, as a tuple, and in lexical order, i.e. (A,B) instead of (B,A) in this case. The output must be tuples, each consisting of the station pair identification and a count."
      ]
    },
    {
      "cell_type": "code",
      "metadata": {
        "colab": {
          "base_uri": "https://localhost:8080/",
          "height": 137
        },
        "id": "FqT3oHCufYOn",
        "outputId": "4f9322da-e8e1-4088-d1b4-ad6d84163399"
      },
      "source": [
        "def mapper3(_, row):\n",
        "  <CODE_HERE>\n",
        "\n",
        "def reducer3(station_pair, counts):\n",
        "  <CODE_HERE>\n",
        "\n",
        "with open('citibike.csv', 'r') as fi:\n",
        "    reader = enumerate(csv.DictReader(fi))\n",
        "    output3 = list(mr.run(reader, mapper3, reducer3))\n",
        "\n",
        "output3[:10]"
      ],
      "execution_count": null,
      "outputs": [
        {
          "output_type": "error",
          "ename": "SyntaxError",
          "evalue": "ignored",
          "traceback": [
            "\u001b[0;36m  File \u001b[0;32m\"<ipython-input-9-a7593b7140c6>\"\u001b[0;36m, line \u001b[0;32m2\u001b[0m\n\u001b[0;31m    <CODE_HERE>\u001b[0m\n\u001b[0m    ^\u001b[0m\n\u001b[0;31mSyntaxError\u001b[0m\u001b[0;31m:\u001b[0m invalid syntax\n"
          ]
        }
      ]
    },
    {
      "cell_type": "markdown",
      "metadata": {
        "id": "GMvbI4p_fYOo"
      },
      "source": [
        "\n",
        "## Task 4\n",
        "\n",
        "In this task, you are asked to compute the station with the most riders started from, per each gender of the *'Subscriber'* user. Meaning, what was the station name with the highest number of bike pickups for female riders, for male riders and for unknown riders.\n",
        "\n",
        "The output will be a list of tuples, each includes a gender label (as indicated below) and another tuple consisting of a station name, and the total number of trips started at that station for that gender.\n",
        "\n",
        "\n",
        "The label mapping for the gender column in citibike.csv is: (Zero=<b>Unknown</b>; 1=<b>Male</b>; 2=<b>Female</b>)"
      ]
    },
    {
      "cell_type": "code",
      "metadata": {
        "colab": {
          "base_uri": "https://localhost:8080/"
        },
        "id": "-5ecA1chfYOp",
        "outputId": "80af7896-abf4-454e-f32c-b2f98d43e4b9"
      },
      "source": [
        "from mrjob.job import MRJob\n",
        "from mrjob.step import MRStep\n",
        "import re\n",
        "\n",
        "WORD_RE = re.compile(r\"[\\w']+\")\n",
        "\n",
        "class MRTask4(MRJob):\n",
        "  def mapper4(self, _, line):\n",
        "    row = line.split(',')\n",
        "    if row[14] == 'Subscriber':\n",
        "      gender_station = (row[16], row[6])\n",
        "      yield (gender_station, 1)\n",
        "\n",
        "  def reducer4(self, gender_station, counts):\n",
        "    stations = (gender_station[1], sum(counts))\n",
        "    yield (gender_station[0], stations)\n",
        "\n",
        "  def mapper5(self, gender, station_count):\n",
        "    genderLabel = ('Unknown', 'Male', 'Female')[int(gender)]\n",
        "    yield (genderLabel, station_count)\n",
        "\n",
        "  def reducer5(self, genderLabel, station_counts):\n",
        "    yield (genderLabel, max(station_counts, key=lambda x: x[1]))\n",
        "\n",
        "  def steps(self):\n",
        "    return [\n",
        "      MRStep(mapper=self.mapper4, reducer=self.reducer4),\n",
        "      MRStep(mapper=self.mapper5, reducer=self.reducer5),\n",
        "    ]\n",
        "\n",
        "task4 = MRTask4(args=[])\n",
        "\n",
        "with open('citibike.csv', 'r') as fi:\n",
        "    reader = enumerate(fi)\n",
        "    output5 = list(mr.runJob(reader, task4))\n",
        "\n",
        "output5[:10]"
      ],
      "execution_count": null,
      "outputs": [
        {
          "output_type": "execute_result",
          "data": {
            "text/plain": [
              "[('Female', ('W 21 St & 6 Ave', 107)),\n",
              " ('Male', ('8 Ave & W 31 St', 488)),\n",
              " ('Unknown', ('Catherine St & Monroe St', 1))]"
            ]
          },
          "metadata": {},
          "execution_count": 10
        }
      ]
    },
    {
      "cell_type": "code",
      "metadata": {
        "colab": {
          "base_uri": "https://localhost:8080/"
        },
        "id": "qjS66CsN9qST",
        "outputId": "34bc7601-07c4-4ff7-a0aa-919a5c952656"
      },
      "source": [
        "!python task4.py citibike.csv | head"
      ],
      "execution_count": null,
      "outputs": [
        {
          "output_type": "stream",
          "name": "stdout",
          "text": [
            "python3: can't open file 'task4.py': [Errno 2] No such file or directory\n"
          ]
        }
      ]
    },
    {
      "cell_type": "markdown",
      "metadata": {
        "id": "hrradqrnfYOq"
      },
      "source": [
        "## Task 5\n",
        "\n",
        "MRJob is a convenient package for simplifying the execution of MapReduce jobs on clusters. However, it doesn't work in a notebook. We're going to convert some of the examples of MRJob into our notebooks so that we can test our code before deploying them on Hadoop.\n",
        "\n",
        "The two examples are available at:\n",
        "\n",
        "https://mrjob.readthedocs.io/en/latest/guides/quickstart.html\n",
        "\n",
        "https://mrjob.readthedocs.io/en/latest/guides/writing-mrjobs.html"
      ]
    },
    {
      "cell_type": "code",
      "metadata": {
        "id": "otYKD3Jkj6y5",
        "colab": {
          "base_uri": "https://localhost:8080/"
        },
        "outputId": "8036a119-b310-4679-e810-bb6c7745ff0c"
      },
      "source": [
        "!python mr_word_count.py book.txt"
      ],
      "execution_count": null,
      "outputs": [
        {
          "output_type": "stream",
          "name": "stdout",
          "text": [
            "No configs found; falling back on auto-configuration\n",
            "No configs specified for inline runner\n",
            "Creating temp directory /tmp/mr_word_count.root.20210927.194209.620334\n",
            "Running step 1 of 1...\n",
            "job output is in /tmp/mr_word_count.root.20210927.194209.620334/output\n",
            "Streaming final output from /tmp/mr_word_count.root.20210927.194209.620334/output...\n",
            "\"chars\"\t246432\n",
            "\"words\"\t38538\n",
            "\"lines\"\t5877\n",
            "Removing temp directory /tmp/mr_word_count.root.20210927.194209.620334...\n"
          ]
        }
      ]
    },
    {
      "cell_type": "code",
      "metadata": {
        "colab": {
          "base_uri": "https://localhost:8080/"
        },
        "id": "g2K0zM550Xrb",
        "outputId": "39a56181-a2b1-434b-d950-caeff171577f"
      },
      "source": [
        "list(enumerate(next(open('citibike.csv', 'r')).strip().split(',')))"
      ],
      "execution_count": null,
      "outputs": [
        {
          "output_type": "execute_result",
          "data": {
            "text/plain": [
              "[(0, 'cartodb_id'),\n",
              " (1, 'the_geom'),\n",
              " (2, 'tripduration'),\n",
              " (3, 'starttime'),\n",
              " (4, 'stoptime'),\n",
              " (5, 'start_station_id'),\n",
              " (6, 'start_station_name'),\n",
              " (7, 'start_station_latitude'),\n",
              " (8, 'start_station_longitude'),\n",
              " (9, 'end_station_id'),\n",
              " (10, 'end_station_name'),\n",
              " (11, 'end_station_latitude'),\n",
              " (12, 'end_station_longitude'),\n",
              " (13, 'bikeid'),\n",
              " (14, 'usertype'),\n",
              " (15, 'birth_year'),\n",
              " (16, 'gender')]"
            ]
          },
          "metadata": {},
          "execution_count": 17
        }
      ]
    },
    {
      "cell_type": "code",
      "metadata": {
        "colab": {
          "base_uri": "https://localhost:8080/",
          "height": 389
        },
        "id": "PHb8yIpV0A_W",
        "outputId": "65daccda-1e91-4513-dd41-95b316079c43"
      },
      "source": [
        "from mrjob.job import MRJob\n",
        "\n",
        "class MRTask1(MRJob):\n",
        "\n",
        "  def mapper(self, _, line):\n",
        "    record = line.split(',')\n",
        "    yield (record[6],1)\n",
        "    yield (record[10],1)\n",
        "\n",
        "  def reducer(self, station, counts):\n",
        "    yield (station,sum(counts))\n",
        "\n",
        "task1 = MRTask1(args=[])\n",
        "\n",
        "with open('citibike.csv', 'r') as fi:\n",
        "  reader = enumerate(fi)\n",
        "  output1 = list(mr.runJob(reader, task1))\n",
        "\n",
        "output1[:10]"
      ],
      "execution_count": null,
      "outputs": [
        {
          "output_type": "error",
          "ename": "ModuleNotFoundError",
          "evalue": "ignored",
          "traceback": [
            "\u001b[0;31m---------------------------------------------------------------------------\u001b[0m",
            "\u001b[0;31mModuleNotFoundError\u001b[0m                       Traceback (most recent call last)",
            "\u001b[0;32m<ipython-input-1-082fed28fcad>\u001b[0m in \u001b[0;36m<module>\u001b[0;34m()\u001b[0m\n\u001b[0;32m----> 1\u001b[0;31m \u001b[0;32mfrom\u001b[0m \u001b[0mmrjob\u001b[0m\u001b[0;34m.\u001b[0m\u001b[0mjob\u001b[0m \u001b[0;32mimport\u001b[0m \u001b[0mMRJob\u001b[0m\u001b[0;34m\u001b[0m\u001b[0;34m\u001b[0m\u001b[0m\n\u001b[0m\u001b[1;32m      2\u001b[0m \u001b[0;34m\u001b[0m\u001b[0m\n\u001b[1;32m      3\u001b[0m \u001b[0;32mclass\u001b[0m \u001b[0mMRTask1\u001b[0m\u001b[0;34m(\u001b[0m\u001b[0mMRJob\u001b[0m\u001b[0;34m)\u001b[0m\u001b[0;34m:\u001b[0m\u001b[0;34m\u001b[0m\u001b[0;34m\u001b[0m\u001b[0m\n\u001b[1;32m      4\u001b[0m \u001b[0;34m\u001b[0m\u001b[0m\n\u001b[1;32m      5\u001b[0m   \u001b[0;32mdef\u001b[0m \u001b[0mmapper\u001b[0m\u001b[0;34m(\u001b[0m\u001b[0mself\u001b[0m\u001b[0;34m,\u001b[0m \u001b[0m_\u001b[0m\u001b[0;34m,\u001b[0m \u001b[0mline\u001b[0m\u001b[0;34m)\u001b[0m\u001b[0;34m:\u001b[0m\u001b[0;34m\u001b[0m\u001b[0;34m\u001b[0m\u001b[0m\n",
            "\u001b[0;31mModuleNotFoundError\u001b[0m: No module named 'mrjob'",
            "",
            "\u001b[0;31m---------------------------------------------------------------------------\u001b[0;32m\nNOTE: If your import is failing due to a missing package, you can\nmanually install dependencies using either !pip or !apt.\n\nTo view examples of installing some common dependencies, click the\n\"Open Examples\" button below.\n\u001b[0;31m---------------------------------------------------------------------------\u001b[0m\n"
          ],
          "errorDetails": {
            "actions": [
              {
                "action": "open_url",
                "actionText": "Open Examples",
                "url": "/notebooks/snippets/importing_libraries.ipynb"
              }
            ]
          }
        }
      ]
    },
    {
      "cell_type": "code",
      "metadata": {
        "colab": {
          "base_uri": "https://localhost:8080/"
        },
        "id": "_BWWnywi3zme",
        "outputId": "48658c8d-8261-41d2-e00d-755a8f5b41a7"
      },
      "source": [
        "!python task1.py citibike.csv | head"
      ],
      "execution_count": null,
      "outputs": [
        {
          "output_type": "stream",
          "name": "stdout",
          "text": [
            "No configs found; falling back on auto-configuration\n",
            "No configs specified for inline runner\n",
            "Creating temp directory /tmp/task1.root.20210927.200913.245600\n",
            "Running step 1 of 1...\n",
            "job output is in /tmp/task1.root.20210927.200913.245600/output\n",
            "Streaming final output from /tmp/task1.root.20210927.200913.245600/output...\n",
            "\"1 Ave & E 15 St\"\t795\n",
            "\"1 Ave & E 44 St\"\t219\n",
            "\"10 Ave & W 28 St\"\t422\n",
            "\"11 Ave & W 27 St\"\t354\n",
            "\"11 Ave & W 41 St\"\t461\n",
            "\"11 Ave & W 59 St\"\t242\n",
            "\"12 Ave & W 40 St\"\t217\n",
            "\"2 Ave & E 31 St\"\t588\n",
            "\"2 Ave & E 58 St\"\t125\n",
            "\"3 Ave & Schermerhorn St\"\t34\n",
            "Removing temp directory /tmp/task1.root.20210927.200913.245600...\n",
            "Traceback (most recent call last):\n",
            "  File \"task1.py\", line 15, in <module>\n",
            "    MRTask1.run()\n",
            "  File \"/usr/local/lib/python3.7/dist-packages/mrjob/job.py\", line 616, in run\n",
            "    cls().execute()\n",
            "  File \"/usr/local/lib/python3.7/dist-packages/mrjob/job.py\", line 687, in execute\n",
            "    self.run_job()\n",
            "  File \"/usr/local/lib/python3.7/dist-packages/mrjob/job.py\", line 645, in run_job\n",
            "    self.stdout.write(chunk)\n",
            "BrokenPipeError: [Errno 32] Broken pipe\n",
            "Exception ignored in: <_io.TextIOWrapper name='<stdout>' mode='w' encoding='UTF-8'>\n",
            "BrokenPipeError: [Errno 32] Broken pipe\n"
          ]
        }
      ]
    },
    {
      "cell_type": "markdown",
      "metadata": {
        "id": "r2k1st8efYOs"
      },
      "source": [
        "## Task 6\n",
        "\n",
        "Let's try to run the above MRJob examples as stand-alone applications. Please check again:\n",
        "https://mrjob.readthedocs.io/en/latest/guides/writing-mrjobs.html#defining-steps"
      ]
    },
    {
      "cell_type": "code",
      "metadata": {
        "id": "ecdsW3X2hHTm",
        "colab": {
          "base_uri": "https://localhost:8080/"
        },
        "outputId": "e4f402f1-47f7-4bfd-e93a-7fd4872ac9d8"
      },
      "source": [
        "from mrjob.job import MRJob\n",
        "from mrjob.step import MRStep\n",
        "import re\n",
        "\n",
        "WORD_RE = re.compile(r\"[\\w']+\")\n",
        "\n",
        "\n",
        "class MRMostUsedWord(MRJob):\n",
        "\n",
        "  def mapper_get_words(self, _, line):\n",
        "      # yield each word in the line\n",
        "      for word in WORD_RE.findall(line):\n",
        "          yield (word.lower(), 1)\n",
        "\n",
        "  def combiner_count_words(self, word, counts):\n",
        "      # sum the words we've seen so far\n",
        "      yield (word, sum(counts))\n",
        "\n",
        "  def reducer_count_words(self, word, counts):\n",
        "      # send all (num_occurrences, word) pairs to the same reducer.\n",
        "      # num_occurrences is so we can easily use Python's max() function.\n",
        "      yield None, (sum(counts), word)\n",
        "\n",
        "  # discard the key; it is just None\n",
        "  def reducer_find_max_word(self, _, word_count_pairs):\n",
        "      # each item of word_count_pairs is (count, word),\n",
        "      # so yielding one results in key=counts, value=word\n",
        "      yield max(word_count_pairs)\n",
        "\n",
        "  def steps(self):\n",
        "      return [\n",
        "          MRStep(mapper=self.mapper_get_words,\n",
        "                  combiner=self.combiner_count_words,\n",
        "                  reducer=self.reducer_count_words),\n",
        "          MRStep(reducer=self.reducer_find_max_word)\n",
        "      ]\n",
        "\n",
        "with open('')\n",
        "\n",
        "taskMostUsed = MRMostUsedWord(args=[])\n",
        "mostUsed = mr.runJob(lines, taskMostUsed)\n",
        "list(mostUsed)"
      ],
      "execution_count": null,
      "outputs": [
        {
          "output_type": "execute_result",
          "data": {
            "text/plain": [
              "[(419, 'the')]"
            ]
          },
          "metadata": {},
          "execution_count": 31
        }
      ]
    }
  ]
}