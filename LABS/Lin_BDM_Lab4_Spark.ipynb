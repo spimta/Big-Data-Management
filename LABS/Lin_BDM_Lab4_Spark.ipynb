{
  "nbformat": 4,
  "nbformat_minor": 0,
  "metadata": {
    "colab": {
      "name": "Copy of BDM_Lab4_Spark",
      "provenance": [],
      "collapsed_sections": []
    },
    "kernelspec": {
      "name": "python3",
      "display_name": "Python 3"
    }
  },
  "cells": [
    {
      "cell_type": "code",
      "metadata": {
        "id": "bjzjcPWYnHLr",
        "colab": {
          "base_uri": "https://localhost:8080/"
        },
        "outputId": "69dd9557-222a-44b1-eeff-4c384d5dea15"
      },
      "source": [
        "!gdown --id 1ay5DcH64Qao1HR7CQnR6Cl1hbBMgGqXj -O DOE_High_School_Directory_2014-2015.csv\n",
        "!gdown --id 13BozEl3JtS43Xuu2Ek9IwMULpWjPH4VC -O SAT_Results.csv"
      ],
      "execution_count": null,
      "outputs": [
        {
          "output_type": "stream",
          "name": "stdout",
          "text": [
            "Downloading...\n",
            "From: https://drive.google.com/uc?id=1ay5DcH64Qao1HR7CQnR6Cl1hbBMgGqXj\n",
            "To: /content/DOE_High_School_Directory_2014-2015.csv\n",
            "100% 1.30M/1.30M [00:00<00:00, 20.5MB/s]\n",
            "Downloading...\n",
            "From: https://drive.google.com/uc?id=13BozEl3JtS43Xuu2Ek9IwMULpWjPH4VC\n",
            "To: /content/SAT_Results.csv\n",
            "100% 28.3k/28.3k [00:00<00:00, 4.14MB/s]\n"
          ]
        }
      ]
    },
    {
      "cell_type": "code",
      "metadata": {
        "colab": {
          "base_uri": "https://localhost:8080/"
        },
        "id": "RcozB_YPnYA0",
        "outputId": "f768a2f0-cf6a-430b-ce57-666699287d43"
      },
      "source": [
        "!pip install pyspark"
      ],
      "execution_count": null,
      "outputs": [
        {
          "output_type": "stream",
          "name": "stdout",
          "text": [
            "Collecting pyspark\n",
            "  Downloading pyspark-3.2.0.tar.gz (281.3 MB)\n",
            "\u001b[K     |████████████████████████████████| 281.3 MB 8.3 kB/s \n",
            "\u001b[?25hCollecting py4j==0.10.9.2\n",
            "  Downloading py4j-0.10.9.2-py2.py3-none-any.whl (198 kB)\n",
            "\u001b[K     |████████████████████████████████| 198 kB 44.2 MB/s \n",
            "\u001b[?25hBuilding wheels for collected packages: pyspark\n",
            "  Building wheel for pyspark (setup.py) ... \u001b[?25l\u001b[?25hdone\n",
            "  Created wheel for pyspark: filename=pyspark-3.2.0-py2.py3-none-any.whl size=281805912 sha256=94b0bb3ba07f96b69c28b5a3a1b4f9f28627bb9fc74324bf7874a509c06e94ad\n",
            "  Stored in directory: /root/.cache/pip/wheels/0b/de/d2/9be5d59d7331c6c2a7c1b6d1a4f463ce107332b1ecd4e80718\n",
            "Successfully built pyspark\n",
            "Installing collected packages: py4j, pyspark\n",
            "Successfully installed py4j-0.10.9.2 pyspark-3.2.0\n"
          ]
        }
      ]
    },
    {
      "cell_type": "code",
      "metadata": {
        "id": "XHKq10WXnZl7",
        "colab": {
          "base_uri": "https://localhost:8080/"
        },
        "outputId": "ab4a3413-fa23-4021-c090-6631d6df4857"
      },
      "source": [
        "import pyspark\n",
        "import csv\n",
        "sc = pyspark.SparkContext()"
      ],
      "execution_count": null,
      "outputs": [
        {
          "output_type": "error",
          "ename": "ValueError",
          "evalue": "ignored",
          "traceback": [
            "\u001b[0;31m---------------------------------------------------------------------------\u001b[0m",
            "\u001b[0;31mValueError\u001b[0m                                Traceback (most recent call last)",
            "\u001b[0;32m<ipython-input-8-93300189517c>\u001b[0m in \u001b[0;36m<module>\u001b[0;34m()\u001b[0m\n\u001b[1;32m      1\u001b[0m \u001b[0;32mimport\u001b[0m \u001b[0mpyspark\u001b[0m\u001b[0;34m\u001b[0m\u001b[0;34m\u001b[0m\u001b[0m\n\u001b[1;32m      2\u001b[0m \u001b[0;32mimport\u001b[0m \u001b[0mcsv\u001b[0m\u001b[0;34m\u001b[0m\u001b[0;34m\u001b[0m\u001b[0m\n\u001b[0;32m----> 3\u001b[0;31m \u001b[0msc\u001b[0m \u001b[0;34m=\u001b[0m \u001b[0mpyspark\u001b[0m\u001b[0;34m.\u001b[0m\u001b[0mSparkContext\u001b[0m\u001b[0;34m(\u001b[0m\u001b[0;34m)\u001b[0m\u001b[0;34m\u001b[0m\u001b[0;34m\u001b[0m\u001b[0m\n\u001b[0m",
            "\u001b[0;32m/usr/local/lib/python3.7/dist-packages/pyspark/context.py\u001b[0m in \u001b[0;36m__init__\u001b[0;34m(self, master, appName, sparkHome, pyFiles, environment, batchSize, serializer, conf, gateway, jsc, profiler_cls)\u001b[0m\n\u001b[1;32m    142\u001b[0m                 \" is not allowed as it is a security risk.\")\n\u001b[1;32m    143\u001b[0m \u001b[0;34m\u001b[0m\u001b[0m\n\u001b[0;32m--> 144\u001b[0;31m         \u001b[0mSparkContext\u001b[0m\u001b[0;34m.\u001b[0m\u001b[0m_ensure_initialized\u001b[0m\u001b[0;34m(\u001b[0m\u001b[0mself\u001b[0m\u001b[0;34m,\u001b[0m \u001b[0mgateway\u001b[0m\u001b[0;34m=\u001b[0m\u001b[0mgateway\u001b[0m\u001b[0;34m,\u001b[0m \u001b[0mconf\u001b[0m\u001b[0;34m=\u001b[0m\u001b[0mconf\u001b[0m\u001b[0;34m)\u001b[0m\u001b[0;34m\u001b[0m\u001b[0;34m\u001b[0m\u001b[0m\n\u001b[0m\u001b[1;32m    145\u001b[0m         \u001b[0;32mtry\u001b[0m\u001b[0;34m:\u001b[0m\u001b[0;34m\u001b[0m\u001b[0;34m\u001b[0m\u001b[0m\n\u001b[1;32m    146\u001b[0m             self._do_init(master, appName, sparkHome, pyFiles, environment, batchSize, serializer,\n",
            "\u001b[0;32m/usr/local/lib/python3.7/dist-packages/pyspark/context.py\u001b[0m in \u001b[0;36m_ensure_initialized\u001b[0;34m(cls, instance, gateway, conf)\u001b[0m\n\u001b[1;32m    353\u001b[0m                         \u001b[0;34m\" created by %s at %s:%s \"\u001b[0m\u001b[0;34m\u001b[0m\u001b[0;34m\u001b[0m\u001b[0m\n\u001b[1;32m    354\u001b[0m                         % (currentAppName, currentMaster,\n\u001b[0;32m--> 355\u001b[0;31m                             callsite.function, callsite.file, callsite.linenum))\n\u001b[0m\u001b[1;32m    356\u001b[0m                 \u001b[0;32melse\u001b[0m\u001b[0;34m:\u001b[0m\u001b[0;34m\u001b[0m\u001b[0;34m\u001b[0m\u001b[0m\n\u001b[1;32m    357\u001b[0m                     \u001b[0mSparkContext\u001b[0m\u001b[0;34m.\u001b[0m\u001b[0m_active_spark_context\u001b[0m \u001b[0;34m=\u001b[0m \u001b[0minstance\u001b[0m\u001b[0;34m\u001b[0m\u001b[0;34m\u001b[0m\u001b[0m\n",
            "\u001b[0;31mValueError\u001b[0m: Cannot run multiple SparkContexts at once; existing SparkContext(app=pyspark-shell, master=local[*]) created by __init__ at <ipython-input-3-1974c4bb7055>:2 "
          ]
        }
      ]
    },
    {
      "cell_type": "code",
      "metadata": {
        "colab": {
          "base_uri": "https://localhost:8080/"
        },
        "id": "WOgEx3Csn1u9",
        "outputId": "28c7a3fb-df10-4f6f-cba8-c78e55b20b0f"
      },
      "source": [
        "sc"
      ],
      "execution_count": null,
      "outputs": [
        {
          "output_type": "execute_result",
          "data": {
            "text/html": [
              "\n",
              "        <div>\n",
              "            <p><b>SparkContext</b></p>\n",
              "\n",
              "            <p><a href=\"http://760cf747acfd:4040\">Spark UI</a></p>\n",
              "\n",
              "            <dl>\n",
              "              <dt>Version</dt>\n",
              "                <dd><code>v3.2.0</code></dd>\n",
              "              <dt>Master</dt>\n",
              "                <dd><code>local[*]</code></dd>\n",
              "              <dt>AppName</dt>\n",
              "                <dd><code>pyspark-shell</code></dd>\n",
              "            </dl>\n",
              "        </div>\n",
              "        "
            ],
            "text/plain": [
              "<SparkContext master=local[*] appName=pyspark-shell>"
            ]
          },
          "metadata": {},
          "execution_count": 9
        }
      ]
    },
    {
      "cell_type": "code",
      "metadata": {
        "colab": {
          "base_uri": "https://localhost:8080/"
        },
        "id": "kl9P5cZwYr0J",
        "outputId": "f505c15e-ba8d-4af0-dd42-ae12aa691dde"
      },
      "source": [
        "def findDuplicateSequence(s):\n",
        "  prev = \"\"\n",
        "  tmp = \"\"\n",
        "  for i in s:\n",
        "    if prev == i:\n",
        "      tmp = tmp+i\n",
        "    else:\n",
        "      if len(tmp) > 1:\n",
        "        yield tmp\n",
        "      prev = i\n",
        "      tmp = i\n",
        "\n",
        "  if len(tmp) > 1:\n",
        "    yield tmp\n",
        "\n",
        "\n",
        "next(findDuplicateSequence(iter('aabccccedaaa'))) # 'aa'\n",
        "#list(findDuplicateSequence(iter('aabccccedaaa'))) # ['aa', 'cccc', 'aaa']"
      ],
      "execution_count": null,
      "outputs": [
        {
          "output_type": "execute_result",
          "data": {
            "application/vnd.google.colaboratory.intrinsic+json": {
              "type": "string"
            },
            "text/plain": [
              "'aa'"
            ]
          },
          "metadata": {},
          "execution_count": 62
        }
      ]
    },
    {
      "cell_type": "code",
      "metadata": {
        "colab": {
          "base_uri": "https://localhost:8080/"
        },
        "id": "1AqCjE4bU6HR",
        "outputId": "3a66fe3b-1cce-479e-a03c-cffb51ffa771"
      },
      "source": [
        "import functools\n",
        "countWord = lambda text: functools.reduce(lambda a,b: a+len(b.split[' ']), text, 0)\n",
        "\n",
        "countWord(['Hello there']) # 2\n",
        "#countWord(['Welcome to the big data exam']) # 6\n",
        "#countWord(['Hello there', 'Welcome to the big data exam']) # 8"
      ],
      "execution_count": null,
      "outputs": [
        {
          "output_type": "error",
          "ename": "TypeError",
          "evalue": "ignored",
          "traceback": [
            "\u001b[0;31m---------------------------------------------------------------------------\u001b[0m",
            "\u001b[0;31mTypeError\u001b[0m                                 Traceback (most recent call last)",
            "\u001b[0;32m<ipython-input-39-46a61177e324>\u001b[0m in \u001b[0;36m<module>\u001b[0;34m()\u001b[0m\n\u001b[1;32m      2\u001b[0m \u001b[0mcountWord\u001b[0m \u001b[0;34m=\u001b[0m \u001b[0;32mlambda\u001b[0m \u001b[0mtext\u001b[0m\u001b[0;34m:\u001b[0m \u001b[0mfunctools\u001b[0m\u001b[0;34m.\u001b[0m\u001b[0mreduce\u001b[0m\u001b[0;34m(\u001b[0m\u001b[0;32mlambda\u001b[0m \u001b[0ma\u001b[0m\u001b[0;34m,\u001b[0m\u001b[0mb\u001b[0m\u001b[0;34m:\u001b[0m \u001b[0ma\u001b[0m\u001b[0;34m+\u001b[0m\u001b[0mlen\u001b[0m\u001b[0;34m(\u001b[0m\u001b[0mlist\u001b[0m\u001b[0;34m(\u001b[0m\u001b[0mb\u001b[0m\u001b[0;34m.\u001b[0m\u001b[0msplit\u001b[0m\u001b[0;34m[\u001b[0m\u001b[0;34m' '\u001b[0m\u001b[0;34m]\u001b[0m\u001b[0;34m)\u001b[0m\u001b[0;34m)\u001b[0m\u001b[0;34m,\u001b[0m \u001b[0mtext\u001b[0m\u001b[0;34m,\u001b[0m \u001b[0;36m0\u001b[0m\u001b[0;34m)\u001b[0m\u001b[0;34m\u001b[0m\u001b[0;34m\u001b[0m\u001b[0m\n\u001b[1;32m      3\u001b[0m \u001b[0;34m\u001b[0m\u001b[0m\n\u001b[0;32m----> 4\u001b[0;31m \u001b[0mcountWord\u001b[0m\u001b[0;34m(\u001b[0m\u001b[0;34m[\u001b[0m\u001b[0;34m'Hello there'\u001b[0m\u001b[0;34m]\u001b[0m\u001b[0;34m)\u001b[0m \u001b[0;31m# 2\u001b[0m\u001b[0;34m\u001b[0m\u001b[0;34m\u001b[0m\u001b[0m\n\u001b[0m\u001b[1;32m      5\u001b[0m \u001b[0;31m#countWord(['Welcome to the big data exam']) # 6\u001b[0m\u001b[0;34m\u001b[0m\u001b[0;34m\u001b[0m\u001b[0;34m\u001b[0m\u001b[0m\n\u001b[1;32m      6\u001b[0m \u001b[0;31m#countWord(['Hello there', 'Welcome to the big data exam']) # 8\u001b[0m\u001b[0;34m\u001b[0m\u001b[0;34m\u001b[0m\u001b[0;34m\u001b[0m\u001b[0m\n",
            "\u001b[0;32m<ipython-input-39-46a61177e324>\u001b[0m in \u001b[0;36m<lambda>\u001b[0;34m(text)\u001b[0m\n\u001b[1;32m      1\u001b[0m \u001b[0;32mimport\u001b[0m \u001b[0mfunctools\u001b[0m\u001b[0;34m\u001b[0m\u001b[0;34m\u001b[0m\u001b[0m\n\u001b[0;32m----> 2\u001b[0;31m \u001b[0mcountWord\u001b[0m \u001b[0;34m=\u001b[0m \u001b[0;32mlambda\u001b[0m \u001b[0mtext\u001b[0m\u001b[0;34m:\u001b[0m \u001b[0mfunctools\u001b[0m\u001b[0;34m.\u001b[0m\u001b[0mreduce\u001b[0m\u001b[0;34m(\u001b[0m\u001b[0;32mlambda\u001b[0m \u001b[0ma\u001b[0m\u001b[0;34m,\u001b[0m\u001b[0mb\u001b[0m\u001b[0;34m:\u001b[0m \u001b[0ma\u001b[0m\u001b[0;34m+\u001b[0m\u001b[0mlen\u001b[0m\u001b[0;34m(\u001b[0m\u001b[0mlist\u001b[0m\u001b[0;34m(\u001b[0m\u001b[0mb\u001b[0m\u001b[0;34m.\u001b[0m\u001b[0msplit\u001b[0m\u001b[0;34m[\u001b[0m\u001b[0;34m' '\u001b[0m\u001b[0;34m]\u001b[0m\u001b[0;34m)\u001b[0m\u001b[0;34m)\u001b[0m\u001b[0;34m,\u001b[0m \u001b[0mtext\u001b[0m\u001b[0;34m,\u001b[0m \u001b[0;36m0\u001b[0m\u001b[0;34m)\u001b[0m\u001b[0;34m\u001b[0m\u001b[0;34m\u001b[0m\u001b[0m\n\u001b[0m\u001b[1;32m      3\u001b[0m \u001b[0;34m\u001b[0m\u001b[0m\n\u001b[1;32m      4\u001b[0m \u001b[0mcountWord\u001b[0m\u001b[0;34m(\u001b[0m\u001b[0;34m[\u001b[0m\u001b[0;34m'Hello there'\u001b[0m\u001b[0;34m]\u001b[0m\u001b[0;34m)\u001b[0m \u001b[0;31m# 2\u001b[0m\u001b[0;34m\u001b[0m\u001b[0;34m\u001b[0m\u001b[0m\n\u001b[1;32m      5\u001b[0m \u001b[0;31m#countWord(['Welcome to the big data exam']) # 6\u001b[0m\u001b[0;34m\u001b[0m\u001b[0;34m\u001b[0m\u001b[0;34m\u001b[0m\u001b[0m\n",
            "\u001b[0;32m<ipython-input-39-46a61177e324>\u001b[0m in \u001b[0;36m<lambda>\u001b[0;34m(a, b)\u001b[0m\n\u001b[1;32m      1\u001b[0m \u001b[0;32mimport\u001b[0m \u001b[0mfunctools\u001b[0m\u001b[0;34m\u001b[0m\u001b[0;34m\u001b[0m\u001b[0m\n\u001b[0;32m----> 2\u001b[0;31m \u001b[0mcountWord\u001b[0m \u001b[0;34m=\u001b[0m \u001b[0;32mlambda\u001b[0m \u001b[0mtext\u001b[0m\u001b[0;34m:\u001b[0m \u001b[0mfunctools\u001b[0m\u001b[0;34m.\u001b[0m\u001b[0mreduce\u001b[0m\u001b[0;34m(\u001b[0m\u001b[0;32mlambda\u001b[0m \u001b[0ma\u001b[0m\u001b[0;34m,\u001b[0m\u001b[0mb\u001b[0m\u001b[0;34m:\u001b[0m \u001b[0ma\u001b[0m\u001b[0;34m+\u001b[0m\u001b[0mlen\u001b[0m\u001b[0;34m(\u001b[0m\u001b[0mlist\u001b[0m\u001b[0;34m(\u001b[0m\u001b[0mb\u001b[0m\u001b[0;34m.\u001b[0m\u001b[0msplit\u001b[0m\u001b[0;34m[\u001b[0m\u001b[0;34m' '\u001b[0m\u001b[0;34m]\u001b[0m\u001b[0;34m)\u001b[0m\u001b[0;34m)\u001b[0m\u001b[0;34m,\u001b[0m \u001b[0mtext\u001b[0m\u001b[0;34m,\u001b[0m \u001b[0;36m0\u001b[0m\u001b[0;34m)\u001b[0m\u001b[0;34m\u001b[0m\u001b[0;34m\u001b[0m\u001b[0m\n\u001b[0m\u001b[1;32m      3\u001b[0m \u001b[0;34m\u001b[0m\u001b[0m\n\u001b[1;32m      4\u001b[0m \u001b[0mcountWord\u001b[0m\u001b[0;34m(\u001b[0m\u001b[0;34m[\u001b[0m\u001b[0;34m'Hello there'\u001b[0m\u001b[0;34m]\u001b[0m\u001b[0;34m)\u001b[0m \u001b[0;31m# 2\u001b[0m\u001b[0;34m\u001b[0m\u001b[0;34m\u001b[0m\u001b[0m\n\u001b[1;32m      5\u001b[0m \u001b[0;31m#countWord(['Welcome to the big data exam']) # 6\u001b[0m\u001b[0;34m\u001b[0m\u001b[0;34m\u001b[0m\u001b[0;34m\u001b[0m\u001b[0m\n",
            "\u001b[0;31mTypeError\u001b[0m: 'builtin_function_or_method' object is not subscriptable"
          ]
        }
      ]
    },
    {
      "cell_type": "code",
      "metadata": {
        "colab": {
          "base_uri": "https://localhost:8080/",
          "height": 1000
        },
        "id": "kP60Eo2PF7gf",
        "outputId": "f1730c5c-5617-43e4-e510-9e8b6a35021d"
      },
      "source": [
        "def everyOtherRecord(reader):\n",
        "  for line in reader:\n",
        "    yield line\n",
        "    next(reader)\n",
        "    \n",
        "\n",
        "file = open('SAT_Results.csv')\n",
        "reader = csv.reader(file)\n",
        "\n",
        "for line in everyOtherRecord(reader):\n",
        "  print(line)"
      ],
      "execution_count": null,
      "outputs": [
        {
          "output_type": "stream",
          "name": "stdout",
          "text": [
            "['DBN', 'SCHOOL NAME', 'Num of SAT Test Takers', 'SAT Critical Reading Avg. Score', 'SAT Math Avg. Score', 'SAT Writing Avg. Score']\n",
            "['21K410', 'ABRAHAM LINCOLN HIGH SCHOOL', '475', '396', '437', '393']\n",
            "['30Q301', 'ACADEMY FOR CAREERS IN TELEVISION AND FILM', '98', '410', '440', '405']\n",
            "['18K637', 'ACADEMY FOR CONSERVATION AND THE ENVIRONMENT', '35', '363', '381', '367']\n",
            "['17K751', 'ACADEMY FOR HEALTH CAREERS', 's', 's', 's', 's']\n",
            "['11X270', 'ACADEMY FOR SCHOLARSHIP AND ENTREPRENEURSHIP: A COLLEGE BOARD SCHOOL', '56', '386', '394', '361']\n",
            "['14K404', 'ACADEMY FOR YOUNG WRITERS', '68', '387', '357', '381']\n",
            "['13K336', 'ACADEMY OF BUSINESS AND COMMUNITY DEVELOPMENT', '9', '439', '374', '418']\n",
            "['24Q264', 'ACADEMY OF FINANCE AND ENTERPRISE', '89', '405', '454', '421']\n",
            "['19K618', 'ACADEMY OF INNOVATIVE TECHNOLOGY', '60', '371', '371', '354']\n",
            "['32K552', 'ACADEMY OF URBAN PLANNING', '67', '342', '364', '354']\n",
            "['07X600', 'ALFRED E. SMITH CAREER AND TECHNICAL EDUCATION HIGH SCHOOL', '76', '394', '400', '364']\n",
            "['08X376', 'ANTONIA PANTOJA PREPARATORY ACADEMY, A COLLEGE BOARD SCHOOL', 's', 's', 's', 's']\n",
            "['08X367', 'ARCHIMEDES ACADEMY FOR MATH, SCIENCE AND TECHNOLOGY APPLICATIONS', 's', 's', 's', 's']\n",
            "['18K589', 'ARTS & MEDIA PREPARATORY ACADEMY', '48', '361', '360', '359']\n",
            "['23K646', 'ASPIRATIONS DIPLOMA PLUS HIGH SCHOOL', '7', '311', '371', '311']\n",
            "['27Q400', 'AUGUST MARTIN HIGH SCHOOL', '101', '377', '371', '360']\n",
            "['14K923', 'AUTOMOTIVE HIGH SCHOOL YABC', 's', 's', 's', 's']\n",
            "['30Q580', 'BACCALAUREATE SCHOOL FOR GLOBAL EDUCATION', '61', '524', '568', '544']\n",
            "['01M696', 'BARD HIGH SCHOOL EARLY COLLEGE', '130', '624', '604', '628']\n",
            "['02M411', 'BARUCH COLLEGE CAMPUS HIGH SCHOOL', '104', '496', '563', '518']\n",
            "['26Q495', 'BAYSIDE HIGH SCHOOL', '708', '462', '523', '464']\n",
            "['03M479', 'BEACON HIGH SCHOOL', '261', '577', '575', '592']\n",
            "['13K575', 'BEDFORD STUYVESANT PREPARATORY HIGH SCHOOL', '13', '398', '391', '394']\n",
            "['13K670', 'BENJAMIN BANNEKER ACADEMY', '185', '471', '472', '448']\n",
            "['16K455', 'BOYS AND GIRLS HIGH SCHOOL', '131', '365', '370', '362']\n",
            "['11X290', 'BRONX ACADEMY OF HEALTH CAREERS', '69', '387', '365', '383']\n",
            "['11X545', 'BRONX AEROSPACE HIGH SCHOOL', '46', '388', '393', '382']\n",
            "['08X432', 'BRONX BRIDGES HIGH SCHOOL', 's', 's', 's', 's']\n",
            "['09X260', 'BRONX CENTER FOR SCIENCE AND MATHEMATICS', '81', '459', '480', '457']\n",
            "['09X324', 'BRONX EARLY COLLEGE ACADEMY FOR TEACHING & LEARNING', 's', 's', 's', 's']\n",
            "['09X227', 'BRONX EXPEDITIONARY LEARNING HIGH SCHOOL', '39', '324', '376', '349']\n",
            "['07X381', 'BRONX HAVEN HIGH SCHOOL', 's', 's', 's', 's']\n",
            "['10X439', 'BRONX HIGH SCHOOL FOR LAW AND COMMUNITY SERVICE', '65', '366', '364', '352']\n",
            "['11X418', 'BRONX HIGH SCHOOL FOR THE VISUAL ARTS', '48', '419', '433', '416']\n",
            "['09X412', 'BRONX HIGH SCHOOL OF BUSINESS', '34', '356', '376', '351']\n",
            "['09X403', 'BRONX INTERNATIONAL HIGH SCHOOL', '49', '314', '312', '339']\n",
            "['12X267', 'BRONX LATIN', '36', '408', '432', '411']\n",
            "['07X527', 'BRONX LEADERSHIP ACADEMY II HIGH SCHOOL', '62', '362', '378', '363']\n",
            "['09X505', 'BRONX SCHOOL FOR LAW, GOVERNMENT AND JUSTICE', '80', '404', '418', '402']\n",
            "['08X269', 'BRONX STUDIO SCHOOL FOR WRITERS AND ARTISTS', 's', 's', 's', 's']\n",
            "['13K553', 'BROOKLYN ACADEMY HIGH SCHOOL', '8', '435', '383', '379']\n",
            "['18K578', 'BROOKLYN BRIDGE ACADEMY', '17', '384', '362', '351']\n",
            "['23K493', 'BROOKLYN COLLEGIATE: A COLLEGE BOARD SCHOOL', '60', '389', '409', '387']\n",
            "['23K643', 'BROOKLYN DEMOCRACY ACADEMY', '11', '349', '338', '331']\n",
            "['16K498', 'BROOKLYN HIGH SCHOOL FOR LAW AND TECHNOLOGY', '46', '362', '372', '358']\n",
            "['15K656', 'BROOKLYN HIGH SCHOOL OF THE ARTS', '141', '426', '421', '411']\n",
            "['19K639', 'BROOKLYN LAB SCHOOL', '57', '360', '385', '363']\n",
            "['14K488', 'BROOKLYN PREPARATORY HIGH SCHOOL', '42', '367', '373', '350']\n",
            "['17K548', 'BROOKLYN SCHOOL FOR MUSIC & THEATRE', '48', '385', '393', '373']\n",
            "['21K690', 'BROOKLYN STUDIO SECONDARY SCHOOL', '119', '429', '449', '435']\n",
            "['18K567', 'BROOKLYN THEATRE ARTS HIGH SCHOOL', '54', '383', '358', '377']\n",
            "['32K564', 'BUSHWICK COMMUNITY HIGH SCHOOL', '24', '359', '317', '358']\n",
            "['32K549', 'BUSHWICK SCHOOL FOR SOCIAL JUSTICE', '75', '348', '353', '334']\n",
            "['02M393', 'BUSINESS OF SPORTS SCHOOL', 's', 's', 's', 's']\n",
            "['01M650', 'CASCADES HIGH SCHOOL', '18', '417', '418', '411']\n",
            "['04M555', 'CENTRAL PARK EAST HIGH SCHOOL', '73', '405', '421', '395']\n",
            "['02M615', 'CHELSEA CAREER AND TECHNICAL EDUCATION HIGH SCHOOL', '83', '399', '418', '390']\n",
            "['11X415', 'CHRISTOPHER COLUMBUS HIGH SCHOOL', '121', '367', '361', '353']\n",
            "['13K674', 'CITY POLYTECHNIC HIGH SCHOOL OF ENGINEERING, ARCHITECTURE, AND TECHNOLOGY', '20', '441', '499', '413']\n",
            "['17K600', 'CLARA BARTON HIGH SCHOOL', '259', '425', '413', '413']\n",
            "['15K519', 'COBBLE HILL SCHOOL OF AMERICAN STUDIES', '77', '398', '402', '385']\n",
            "['05M362', 'COLUMBIA SECONDARY SCHOOL FOR MATH, SCIENCE, AND ENGINEERING', 's', 's', 's', 's']\n",
            "['07X427', 'COMMUNITY SCHOOL FOR SOCIAL JUSTICE', '43', '361', '359', '357']\n",
            "['07X321', 'CROTONA ACADEMY HIGH SCHOOL', '9', '379', '364', '382']\n",
            "['18K629', 'CULTURAL ACADEMY FOR THE ARTS AND SCIENCES', '33', '393', '395', '381']\n",
            "['19K659', 'CYPRESS HILLS COLLEGIATE PREPARATORY SCHOOL', '51', '376', '385', '368']\n",
            "['10X549', 'DISCOVERY HIGH SCHOOL', '55', '372', '379', '364']\n",
            "['13K265', 'DR. SUSAN S. MCKINNEY SECONDARY SCHOOL OF THE ARTS', '29', '352', '349', '373']\n",
            "['12X271', 'EAST BRONX ACADEMY FOR THE FUTURE', '46', '366', '378', '358']\n",
            "['19K409', 'EAST NEW YORK FAMILY ACADEMY', '54', '416', '432', '394']\n",
            "['25Q281', 'EASTsWEST SCHOOL OF INTERNATIONAL STUDIES', '59', '416', '463', '392']\n",
            "['03M505', 'EDWARD A. REYNOLDS WEST SIDE HIGH SCHOOL', '35', '401', '369', '351']\n",
            "['02M416', 'ELEANOR ROOSEVELT HIGH SCHOOL', '127', '572', '594', '592']\n",
            "['02M394', 'EMMA LAZARUS HIGH SCHOOL', '79', '319', '512', '357']\n",
            "['17K467', 'ERASMUS YABC', 's', 's', 's', 's']\n",
            "['29Q265', 'EXCELSIOR PREPARATORY HIGH SCHOOL', '49', '402', '398', '402']\n",
            "['21K572', 'EXPEDITIONARY LEARNING SCHOOL FOR COMMUNITY LEADERS', '40', '353', '370', '356']\n",
            "['02M303', 'FACING HISTORY SCHOOL, THE', '76', '353', '358', '340']\n",
            "['19K502', 'FDNY HIGH SCHOOL FOR FIRE AND LIFE SAFETY', '37', '341', '349', '333']\n",
            "['03M485', 'FIORELLO H. LAGUARDIA HIGH SCHOOL OF MUSIC & ART AND PERFORMING ARTS', '531', '566', '564', '577']\n",
            "['25Q263', 'FLUSHING INTERNATIONAL HIGH SCHOOL', '45', '314', '417', '318']\n",
            "['02M288', 'FOOD AND FINANCE HIGH SCHOOL', '62', '409', '393', '392']\n",
            "['10X438', 'FORDHAM LEADERSHIP ACADEMY FOR BUSINESS AND TECHNOLOGY', '63', '367', '385', '367']\n",
            "['28Q440', 'FOREST HILLS HIGH SCHOOL', '762', '456', '497', '454']\n",
            "['20K490', 'FORT HAMILTON HIGH SCHOOL', '694', '417', '478', '411']\n",
            "['14K632', 'FRANCES PERKINS ACADEMY', '12', '382', '372', '368']\n",
            "['20K505', 'FRANKLIN DELANO ROOSEVELT HIGH SCHOOL', '385', '383', '486', '375']\n",
            "['19K420', 'FRANKLIN K. LANE HIGH SCHOOL', 's', 's', 's', 's']\n",
            "['30Q501', 'FRANK SINATRA SCHOOL OF THE ARTS HIGH SCHOOL', '174', '504', '496', '494']\n",
            "['09X517', 'FREDERICK DOUGLASS ACADEMY III SECONDARY SCHOOL', '50', '368', '384', '369']\n",
            "['16K393', 'FREDERICK DOUGLASS ACADEMY IV SECONDARY SCHOOL', '20', '355', '355', '358']\n",
            "['23K514', 'FREDERICK DOUGLASS ACADEMY VII HIGH SCHOOL', '55', '361', '371', '359']\n",
            "['08X295', 'GATEWAY SCHOOL FOR ENVIRONMENTAL RESEARCH AND TECHNOLOGY', '41', '416', '390', '394']\n",
            "['79Q950', 'GED PLUS s CITYWIDE', '8', '496', '400', '426']\n",
            "['06M457', 'GEORGE WASHINGTON YABC', '7', '394', '357', '346']\n",
            "['11X541', 'GLOBAL ENTERPRISE HIGH SCHOOL', '57', '372', '382', '375']\n",
            "['10X660', 'GRACE DODGE CAREER AND TECHNICAL EDUCATION HIGH SCHOOL', '73', '362', '382', '356']\n",
            "['02M374', 'GRAMERCY ARTS HIGH SCHOOL', '60', '391', '391', '394']\n",
            "['06M552', 'GREGORIO LUPERON HIGH SCHOOL FOR SCIENCE AND MATHEMATICS', '56', '339', '349', '326']\n",
            "['05M285', 'HARLEM RENAISSANCE HIGH SCHOOL', '29', '357', '318', '333']\n",
            "['02M586', 'HARVEY MILK HIGH SCHOOL', '9', '458', '416', '429']\n",
            "['01M292', 'HENRY STREET SCHOOL FOR INTERNATIONAL STUDIES', '29', '355', '404', '363']\n",
            "['08X408', 'HERBERT H. LEHMAN YABC', '6', '402', '373', '413']\n",
            "['24Q550', 'HIGH SCHOOL FOR ARTS AND BUSINESS', '138', '391', '403', '380']\n",
            "['19K504', 'HIGH SCHOOL FOR CIVIL RIGHTS', '47', '363', '349', '342']\n",
            "['11X544', 'HIGH SCHOOL FOR CONTEMPORARY ARTS', '55', '383', '378', '365']\n",
            "['02M400', 'HIGH SCHOOL FOR ENVIRONMENTAL STUDIES', '263', '465', '493', '461']\n",
            "['06M468', 'HIGH SCHOOL FOR HEALTH CAREERS AND SCIENCES', '24', '400', '422', '402']\n",
            "['18K617', 'HIGH SCHOOL FOR INNOVATION IN ADVERTISING AND MEDIA', '37', '404', '393', '386']\n",
            "['03M492', 'HIGH SCHOOL FOR LAW, ADVOCACY AND COMMUNITY JUSTICE', '66', '396', '398', '402']\n",
            "['28Q690', 'HIGH SCHOOL FOR LAW ENFORCEMENT AND PUBLIC SAFETY', '74', '406', '406', '384']\n",
            "['06M463', 'HIGH SCHOOL FOR MEDIA AND COMMUNICATIONS', '63', '369', '380', '349']\n",
            "['17K546', 'HIGH SCHOOL FOR PUBLIC SERVICE: HEROES OF TOMORROW', '79', '418', '441', '414']\n",
            "['10X433', 'HIGH SCHOOL FOR TEACHING AND THE PROFESSIONS', '57', '370', '371', '365']\n",
            "['17K537', 'HIGH SCHOOL FOR YOUTH AND COMMUNITY DEVELOPMENT AT ERASMUS', '73', '338', '349', '340']\n",
            "['10X696', 'HIGH SCHOOL OF AMERICAN STUDIES AT LEHMAN COLLEGE', '92', '636', '648', '636']\n",
            "['03M494', 'HIGH SCHOOL OF ARTS AND TECHNOLOGY', '75', '433', '433', '411']\n",
            "['02M489', 'HIGH SCHOOL OF ECONOMICS AND FINANCE', '167', '443', '489', '442']\n",
            "['02M296', 'HIGH SCHOOL OF HOSPITALITY MANAGEMENT', '58', '374', '375', '362']\n",
            "['20K485', 'HIGH SCHOOL OF TELECOMMUNICATION ARTS AND TECHNOLOGY', '238', '425', '474', '424']\n",
            "['08X560', 'HIGH SCHOOL X560 s BRONX ACADEMY HIGH SCHOOL', '9', '404', '368', '399']\n",
            "['28Q325', 'HILLSIDE ARTS & LETTERS ACADEMY', 's', 's', 's', 's']\n",
            "['07X500', 'HOSTOSsLINCOLN ACADEMY OF SCIENCE', '66', '420', '426', '411']\n",
            "['29Q498', 'HUMANITIES & ARTS MAGNET HIGH SCHOOL', '62', '393', '381', '377']\n",
            "['02M544', 'INDEPENDENCE HIGH SCHOOL', '14', '389', '371', '335']\n",
            "['03M404', 'INNOVATION DIPLOMA PLUS', '12', '416', '403', '381']\n",
            "['02M407', 'INSTITUTE FOR COLLABORATIVE EDUCATION', '54', '492', '465', '467']\n",
            "['07X334', 'INTERNATIONAL COMMUNITY HIGH SCHOOL', '34', '310', '324', '311']\n",
            "['24Q530', 'INTERNATIONAL HIGH SCHOOL AT LAGUARDIA COMMUNITY COLLEGE', '69', '326', '409', '329']\n",
            "['02M438', 'INTERNATIONAL HIGH SCHOOL AT UNION SQUARE', 's', 's', 's', 's']\n",
            "['18K563', 'IT TAKES A VILLAGE ACADEMY', '56', '313', '320', '330']\n",
            "['28Q350', 'JAMAICA GATEWAY TO THE SCIENCES', '25', '430', '452', '425']\n",
            "['02M313', 'JAMES BALDWIN SCHOOL, THE: A SCHOOL FOR EXPEDITIONARY LEARNING', '69', '408', '390', '390']\n",
            "['08X650', 'JANE ADDAMS HIGH SCHOOL FOR ACADEMIC CAREERS', '78', '377', '359', '376']\n",
            "['75X754', 'J. M. RAPPORT SCHOOL CAREER DEVELOPMENT', 's', 's', 's', 's']\n",
            "['25Q425', 'JOHN BOWNE HIGH SCHOOL', '558', '397', '451', '395']\n",
            "['10X475', 'JOHN F. KENNEDY HIGH SCHOOL', '109', '351', '362', '339']\n",
            "['14K071', 'JUAN MOREL CAMPOS SECONDARY SCHOOL', '102', '365', '361', '359']\n",
            "['10X268', 'KINGSBRIDGE INTERNATIONAL HIGH SCHOOL', '52', '304', '356', '302']\n",
            "['18K569', 'KURT HAHN EXPEDITIONARY LEARNING SCHOOL', '43', '368', '378', '346']\n",
            "['29Q494', 'LAW, GOVERNMENT AND COMMUNITY SERVICE HIGH SCHOOL', '52', '385', '377', '377']\n",
            "['09X276', 'LEADERSHIP INSTITUTE', '30', '361', '353', '367']\n",
            "['12X428', 'LEARNING TO WORK YABC AT MONROE ACADEMY', 's', 's', 's', 's']\n",
            "['02M429', 'LEGACY SCHOOL FOR INTEGRATED STUDIES', '29', '356', '357', '349']\n",
            "['21K728', 'LIBERATION DIPLOMA PLUS', '10', '411', '369', '373']\n",
            "['21K559', 'LIFE ACADEMY HIGH SCHOOL FOR FILM AND MUSIC', '40', '384', '375', '365']\n",
            "['30Q450', 'LONG ISLAND CITY HIGH SCHOOL', '392', '403', '420', '395']\n",
            "['01M515', 'LOWER EAST SIDE PREPARATORY HIGH SCHOOL', '112', '332', '557', '316']\n",
            "['14K586', 'LYONS COMMUNITY SCHOOL', '31', '371', '377', '355']\n",
            "['02M542', 'MANHATTAN BRIDGES HIGH SCHOOL', '66', '336', '378', '344']\n",
            "['04M435', 'MANHATTAN CENTER FOR SCIENCE AND MATHEMATICS', '375', '461', '514', '455']\n",
            "['03M541', 'MANHATTAN / HUNTER SCIENCE HIGH SCHOOL', '111', '473', '506', '467']\n",
            "['03M283', 'MANHATTAN THEATRE LAB HIGH SCHOOL', '27', '406', '379', '408']\n",
            "['10X477', 'MARBLE HILL HIGH SCHOOL FOR INTERNATIONAL STUDIES', '99', '414', '435', '414']\n",
            "['26Q435', 'MARTIN VAN BUREN HIGH SCHOOL', '334', '391', '397', '384']\n",
            "['17K590', 'MEDGAR EVERS COLLEGE PREPARATORY SCHOOL', '165', '476', '481', '479']\n",
            "['23K647', 'METROPOLITAN DIPLOMA PLUS HIGH SCHOOL', '17', '350', '346', '332']\n",
            "['24Q520', 'MIDDLE COLLEGE HIGH SCHOOL AT LAGUARDIA COMMUNITY COLLEGE', '58', '399', '393', '385']\n",
            "['08X312', 'MILLENNIUM ART ACADEMY', '67', '387', '402', '375']\n",
            "['12X690', 'MONROE ACADEMY FOR BUSINESS/LAW', '31', '375', '387', '376']\n",
            "['09X297', 'MORRIS ACADEMY FOR COLLABORATIVE STUDIES', '38', '386', '386', '376']\n",
            "['05M304', 'MOTT HALL HIGH SCHOOL', '54', '413', '399', '398']\n",
            "['19K583', 'MULTICULTURAL HIGH SCHOOL', '29', '279', '322', '286']\n",
            "['30Q555', 'NEWCOMERS HIGH SCHOOL', '143', '323', '475', '329']\n",
            "['02M543', 'NEW DESIGN HIGH SCHOOL', '73', '391', '395', '382']\n",
            "['01M539', 'NEW EXPLORATIONS INTO SCIENCE, TECHNOLOGY AND MATH HIGH SCHOOL', '159', '522', '574', '525']\n",
            "['24Q455', 'NEWTOWN HIGH SCHOOL', '320', '383', '440', '380']\n",
            "['11X513', 'NEW WORLD HIGH SCHOOL', '72', '332', '381', '335']\n",
            "['25Q792', 'NORTH QUEENS COMMUNITY HIGH SCHOOL', '7', '379', '421', '377']\n",
            "['02M412', 'N.Y.C. LAB SCHOOL FOR COLLABORATIVE STUDIES', '114', '537', '590', '550']\n",
            "['18K635', 'OLYMPUS ACADEMY', '7', '400', '370', '370']\n",
            "['02M298', 'PACE HIGH SCHOOL', '85', '423', '438', '432']\n",
            "['24Q296', 'PAN AMERICAN INTERNATIONAL HIGH SCHOOL', '55', '317', '323', '311']\n",
            "['04M495', 'PARK EAST HIGH SCHOOL', '51', '373', '379', '376']\n",
            "['29Q259', 'PATHWAYS COLLEGE PREPARATORY SCHOOL: A COLLEGE BOARD SCHOOL', '46', '401', '397', '375']\n",
            "['12X278', 'PEACE AND DIVERSITY ACADEMY', '34', '390', '401', '364']\n",
            "['12X262', 'PERFORMANCE CONSERVATORY HIGH SCHOOL', '30', '361', '353', '360']\n",
            "['79X490', 'PHOENIX ACADEMY', '9', '367', '370', '360']\n",
            "['29Q283', 'PREPARATORY ACADEMY FOR WRITERS: A COLLEGE BOARD SCHOOL', '43', '370', '367', '363']\n",
            "['14K474', 'PROGRESS HIGH SCHOOL FOR PROFESSIONAL CAREERS', '144', '364', '379', '371']\n",
            "['75M035', 'P.S. 035', 's', 's', 's', 's']\n",
            "['75Q256', 'P.S. Q256', 's', 's', 's', 's']\n",
            "['75X012', 'P.S. X012 LEWIS AND CLARK SCHOOL', 's', 's', 's', 's']\n",
            "['28Q310', 'QUEENS COLLEGIATE: A COLLEGE BOARD SCHOOL', '68', '420', '445', '400']\n",
            "['27Q302', 'QUEENS HIGH SCHOOL FOR INFORMATION, RESEARCH, AND TECHNOLOGY', '44', '391', '401', '364']\n",
            "['26Q566', 'QUEENS HIGH SCHOOL OF TEACHING, LIBERAL ARTS AND THE SCIENCES', '175', '425', '434', '420']\n",
            "['29Q248', 'QUEENS PREPARATORY ACADEMY', '52', '360', '380', '359']\n",
            "['25Q252', 'QUEENS SCHOOL OF INQUIRY, THE', '58', '455', '498', '443']\n",
            "['21K344', 'RACHEL CARSON HIGH SCHOOL FOR COASTAL STUDIES', '54', '402', '427', '408']\n",
            "['08X293', 'RENAISSANCE HIGH SCHOOL FOR MUSICAL THEATER & TECHNOLOGY', '52', '384', '385', '389']\n",
            "['02M580', 'RICHARD R. GREEN HIGH SCHOOL OF TEACHING', '84', '408', '384', '403']\n",
            "['10X141', 'RIVERDALE / KINGSBRIDGE ACADEMY (MIDDLE SCHOOL / HIGH SCHOOL 141)', '113', '438', '455', '440']\n",
            "['24Q560', 'ROBERT F. WAGNER, JR. SECONDARY SCHOOL FOR ARTS AND TECHNOLOGY', '80', '443', '447', '440']\n",
            "['07X655', 'SAMUEL GOMPERS CAREER AND TECHNICAL EDUCATION HIGH SCHOOL', '47', '398', '416', '370']\n",
            "['27Q323', \"SCHOLARS' ACADEMY\", '89', '499', '537', '496']\n",
            "['79M645', 'SCHOOL FOR COOPERATIVE TECHNICAL EDUCATION', 's', 's', 's', 's']\n",
            "['09X404', 'SCHOOL FOR EXCELLENCE', '32', '363', '360', '351']\n",
            "['15K497', 'SCHOOL FOR INTERNATIONAL STUDIES', '64', '405', '415', '392']\n",
            "['02M413', 'SCHOOL OF THE FUTURE HIGH SCHOOL', '66', '517', '533', '515']\n",
            "['17K543', 'SCIENCE, TECHNOLOGY AND RESEARCH EARLY COLLEGE HIGH SCHOOL AT ERASMUS', '69', '457', '462', '441']\n",
            "['15K462', 'SECONDARY SCHOOL FOR LAW', '59', '398', '411', '394']\n",
            "['07X221', 'SOUTH BRONX PREPARATORY: A COLLEGE BOARD SCHOOL', '65', '364', '378', '348']\n",
            "['75R025', 'SOUTH RICHMOND HIGH SCHOOL I.S./P.S. 25', 's', 's', 's', 's']\n",
            "['08X507', 'STEVENSON YABC', 's', 's', 's', 's']\n",
            "['15K667', 'SUNSET PARK HIGH SCHOOL', 's', 's', 's', 's']\n",
            "['02M519', 'TALENT UNLIMITED HIGH SCHOOL', '81', '469', '472', '475']\n",
            "['10X225', 'THEATRE ARTS PRODUCTION COMPANY SCHOOL', '59', '405', '391', '394']\n",
            "['16K688', 'THE BROOKLYN ACADEMY OF GLOBAL FINANCE', 's', 's', 's', 's']\n",
            "['03M403', 'THE GLOBAL LEARNING COLLABORATIVE', 's', 's', 's', 's']\n",
            "['17K528', 'THE HIGH SCHOOL FOR GLOBAL CITIZENSHIP', '46', '403', '385', '388']\n",
            "['02M600', 'THE HIGH SCHOOL OF FASHION INDUSTRIES', '335', '423', '423', '411']\n",
            "['31R080', 'THE MICHAEL J. PETRIDES SCHOOL', '107', '472', '488', '466']\n",
            "['02M551', 'THE URBAN ASSEMBLY NEW YORK HARBOR SCHOOL', '77', '405', '423', '384']\n",
            "['03M402', 'THE URBAN ASSEMBLY SCHOOL FOR GREEN CAREERS', 's', 's', 's', 's']\n",
            "['28Q620', 'THOMAS A. EDISON CAREER AND TECHNICAL EDUCATION HIGH SCHOOL', '422', '452', '478', '442']\n",
            "['05M670', 'THURGOOD MARSHALL ACADEMY FOR LEARNING AND SOCIAL CHANGE', '66', '396', '402', '404']\n",
            "['25Q525', 'TOWNSEND HARRIS HIGH SCHOOL', '278', '621', '651', '638']\n",
            "['02M500', 'UNITY CENTER FOR URBAN TECHNOLOGIES', '25', '370', '349', '351']\n",
            "['01M448', 'UNIVERSITY NEIGHBORHOOD HIGH SCHOOL', '91', '383', '423', '366']\n",
            "['18K642', 'URBAN ACTION ACADEMY', '40', '376', '385', '374']\n",
            "['02M305', 'URBAN ASSEMBLY ACADEMY OF GOVERNMENT AND LAW, THE', '50', '375', '388', '385']\n",
            "['13K527', 'URBAN ASSEMBLY INSTITUTE OF MATH AND SCIENCE FOR YOUNG WOMEN', 's', 's', 's', 's']\n",
            "['07X548', 'URBAN ASSEMBLY SCHOOL FOR CAREERS IN SPORTS', '44', '387', '411', '383']\n",
            "['05M369', 'URBAN ASSEMBLY SCHOOL FOR THE PERFORMING ARTS', '56', '360', '353', '364']\n",
            "['02M300', 'URBAN ASSEMBLY SCHOOL OF DESIGN AND CONSTRUCTION, THE', '48', '404', '449', '416']\n",
            "['02M449', 'VANGUARD HIGH SCHOOL', '72', '395', '416', '388']\n",
            "['24Q744', 'VOYAGES PREPARATORY', 's', 's', 's', 's']\n",
            "['06M348', 'WASHINGTON HEIGHTS EXPEDITIONARY LEARNING SCHOOL', '70', '380', '395', '399']\n",
            "['02M473', 'WASHINGTON IRVING YABC', 's', 's', 's', 's']\n",
            "['10X243', 'WEST BRONX ACADEMY FOR THE FUTURE', '26', '382', '406', '370']\n",
            "['19K660', 'W. H. MAXWELL CAREER AND TECHNICAL EDUCATION HIGH SCHOOL', '74', '370', '369', '363']\n",
            "['21K620', 'WILLIAM E. GRADY CAREER AND TECHNICAL EDUCATION HIGH SCHOOL', '95', '394', '414', '376']\n",
            "['14K561', 'WILLIAMSBURG PREPARATORY SCHOOL', '113', '397', '410', '380']\n",
            "['08X282', \"WOMEN'S ACADEMY OF EXCELLENCE\", '44', '407', '386', '378']\n",
            "['25Q285', 'WORLD JOURNALISM PREPARATORY: A COLLEGE BOARD SCHOOL', '63', '471', '489', '481']\n",
            "['24Q457', 'YOUNG ADULT BOROUGH CENTER AT ARTS AND BUSINESS HS', 's', 's', 's', 's']\n",
            "['31R607', 'YOUNG ADULT BOROUGH CENTER AT STATEN IS TECH HS', '10', '405', '375', '370']\n",
            "['04M610', \"YOUNG WOMEN'S LEADERSHIP SCHOOL\", '70', '432', '446', '448']\n",
            "['28Q896', \"YOUNG WOMEN'S LEADERSHIP SCHOOL, QUEENS\", '68', '439', '445', '432']\n"
          ]
        },
        {
          "output_type": "error",
          "ename": "RuntimeError",
          "evalue": "ignored",
          "traceback": [
            "\u001b[0;31m---------------------------------------------------------------------------\u001b[0m",
            "\u001b[0;31mStopIteration\u001b[0m                             Traceback (most recent call last)",
            "\u001b[0;32m<ipython-input-23-4458c789b5fb>\u001b[0m in \u001b[0;36meveryOtherRecord\u001b[0;34m(reader)\u001b[0m\n\u001b[1;32m      3\u001b[0m     \u001b[0;32myield\u001b[0m \u001b[0mline\u001b[0m\u001b[0;34m\u001b[0m\u001b[0;34m\u001b[0m\u001b[0m\n\u001b[0;32m----> 4\u001b[0;31m     \u001b[0mnext\u001b[0m\u001b[0;34m(\u001b[0m\u001b[0mreader\u001b[0m\u001b[0;34m)\u001b[0m\u001b[0;34m\u001b[0m\u001b[0;34m\u001b[0m\u001b[0m\n\u001b[0m\u001b[1;32m      5\u001b[0m \u001b[0;34m\u001b[0m\u001b[0m\n",
            "\u001b[0;31mStopIteration\u001b[0m: ",
            "\nThe above exception was the direct cause of the following exception:\n",
            "\u001b[0;31mRuntimeError\u001b[0m                              Traceback (most recent call last)",
            "\u001b[0;32m<ipython-input-23-4458c789b5fb>\u001b[0m in \u001b[0;36m<module>\u001b[0;34m()\u001b[0m\n\u001b[1;32m      7\u001b[0m \u001b[0mreader\u001b[0m \u001b[0;34m=\u001b[0m \u001b[0mcsv\u001b[0m\u001b[0;34m.\u001b[0m\u001b[0mreader\u001b[0m\u001b[0;34m(\u001b[0m\u001b[0mfile\u001b[0m\u001b[0;34m)\u001b[0m\u001b[0;34m\u001b[0m\u001b[0;34m\u001b[0m\u001b[0m\n\u001b[1;32m      8\u001b[0m \u001b[0;34m\u001b[0m\u001b[0m\n\u001b[0;32m----> 9\u001b[0;31m \u001b[0;32mfor\u001b[0m \u001b[0mline\u001b[0m \u001b[0;32min\u001b[0m \u001b[0meveryOtherRecord\u001b[0m\u001b[0;34m(\u001b[0m\u001b[0mreader\u001b[0m\u001b[0;34m)\u001b[0m\u001b[0;34m:\u001b[0m\u001b[0;34m\u001b[0m\u001b[0;34m\u001b[0m\u001b[0m\n\u001b[0m\u001b[1;32m     10\u001b[0m   \u001b[0mprint\u001b[0m\u001b[0;34m(\u001b[0m\u001b[0mline\u001b[0m\u001b[0;34m)\u001b[0m\u001b[0;34m\u001b[0m\u001b[0;34m\u001b[0m\u001b[0m\n",
            "\u001b[0;31mRuntimeError\u001b[0m: generator raised StopIteration"
          ]
        }
      ]
    },
    {
      "cell_type": "code",
      "metadata": {
        "id": "5F61-yGVn4M7"
      },
      "source": [
        "# We're creating two RDD, one is from the sample README file\n",
        "# and the other is directly from a list within the notebook.\n",
        "\n",
        "rdd = sc.textFile('sample_data/README.md')\n",
        "testRdd = sc.parallelize([1,2,3,4,5])"
      ],
      "execution_count": null,
      "outputs": []
    },
    {
      "cell_type": "code",
      "metadata": {
        "colab": {
          "base_uri": "https://localhost:8080/"
        },
        "id": "gP9kdKeHoYS6",
        "outputId": "1978e065-823b-42a8-9eed-f150a94f9b3f"
      },
      "source": [
        "# Here, we're showing the difference between map() and flatMap()\n",
        "# doing the line split and get back the first 3 elements, take(3).\n",
        "# - map() is a one-to-one mapping, just like Python, so the first\n",
        "# line prints out 3 lists, each consists words per each.\n",
        "# - flatMap() is a one-to-many mapping, like MapReduce's map(). So\n",
        "# the second line prints out only 3 words.\n",
        "\n",
        "wordsPerLine = rdd.map(lambda line: line.split()).take(3)\n",
        "words = rdd.flatMap(lambda line: line.split()).take(3)\n",
        "\n",
        "print('%s\\n\\n%s' % (wordsPerLine, words))"
      ],
      "execution_count": null,
      "outputs": [
        {
          "output_type": "stream",
          "name": "stdout",
          "text": [
            "[['This', 'directory', 'includes', 'a', 'few', 'sample', 'datasets', 'to', 'get', 'you', 'started.'], [], ['*', '`california_housing_data*.csv`', 'is', 'California', 'housing', 'data', 'from', 'the', '1990', 'US']]\n",
            "\n",
            "['This', 'directory', 'includes']\n"
          ]
        }
      ]
    },
    {
      "cell_type": "code",
      "metadata": {
        "colab": {
          "base_uri": "https://localhost:8080/"
        },
        "id": "y-qYmcHBofK6",
        "outputId": "270c72e3-8f90-43e9-9ad5-99c501c927f1"
      },
      "source": [
        "# This is the word count example with Spark using the approach\n",
        "# shown in the slides, i.e. staying true to the MapReduce paradigm.\n",
        "# Note that groupByKey() will sort and group everything together by\n",
        "# keys first. Then the function in mapValues() will each get applied\n",
        "# per each (key, list of values) pair. This could be an issue if we\n",
        "# have a pair with lots of values since all of the values have to be\n",
        "# stored in memory.\n",
        "\n",
        "wc = rdd.flatMap(lambda line: line.split()) \\\n",
        "        .map(lambda x: (x.lower(), 1)) \\\n",
        "        .groupByKey() \\\n",
        "        .mapValues(lambda values: sum(values))\n",
        "wc.take(2)"
      ],
      "execution_count": null,
      "outputs": [
        {
          "output_type": "execute_result",
          "data": {
            "text/plain": [
              "[('this', 1), ('directory', 1)]"
            ]
          },
          "metadata": {},
          "execution_count": 7
        }
      ]
    },
    {
      "cell_type": "code",
      "metadata": {
        "colab": {
          "base_uri": "https://localhost:8080/"
        },
        "id": "aOI_nYO3oo16",
        "outputId": "549501e3-1dde-4b7f-a3ce-b15240598edb"
      },
      "source": [
        "# This is another approach with reduceByKey() instead of groupByKey().\n",
        "# The reduce function provided for reduceByKey() only takes 2 params\n",
        "# at a time, thus, doesn't suffer the scalability issue. It also has\n",
        "# better benefits in term of parallelism.\n",
        "\n",
        "wc = rdd.flatMap(lambda line: line.split()) \\\n",
        "        .map(lambda x: (x.lower(), 1)) \\\n",
        "        .reduceByKey(lambda x,y: x+y)\n",
        "wc.take(2)"
      ],
      "execution_count": null,
      "outputs": [
        {
          "output_type": "execute_result",
          "data": {
            "text/plain": [
              "[('this', 1), ('directory', 1)]"
            ]
          },
          "metadata": {},
          "execution_count": 8
        }
      ]
    },
    {
      "cell_type": "code",
      "metadata": {
        "colab": {
          "base_uri": "https://localhost:8080/"
        },
        "id": "LQ1uSH64orc6",
        "outputId": "90f894c2-7167-40e5-8659-a76de186846a"
      },
      "source": [
        "# If we'd like to compute the top 3 most popular words in Spark. We\n",
        "# can use the RDD's top() function directly. This is much easier\n",
        "# than the two-step MapReduce job, where we had to first compute the\n",
        "# top 3 words per partition, then another top 3 on top of that. In\n",
        "# fact, this is exactly how Spark RDD's top() function is implemented.\n",
        "# More info can be found here:\n",
        "# https://github.com/apache/spark/blob/master/python/pyspark/rdd.py#L1459\n",
        "wc.top(3, key=lambda x: x[1])"
      ],
      "execution_count": null,
      "outputs": [
        {
          "output_type": "execute_result",
          "data": {
            "text/plain": [
              "[('is', 4), ('*', 3), ('a', 3)]"
            ]
          },
          "metadata": {},
          "execution_count": 9
        }
      ]
    },
    {
      "cell_type": "markdown",
      "metadata": {
        "id": "-9Ykp1Qqnu5f"
      },
      "source": [
        "## LAB 4 - Task 1"
      ]
    },
    {
      "cell_type": "code",
      "metadata": {
        "id": "GPj5PnTAo6yq"
      },
      "source": [
        "SAT_FN = 'SAT_Results.csv'\n",
        "HSD_FN = 'DOE_High_School_Directory_2014-2015.csv'"
      ],
      "execution_count": null,
      "outputs": []
    },
    {
      "cell_type": "code",
      "metadata": {
        "colab": {
          "base_uri": "https://localhost:8080/"
        },
        "id": "6_caGSrHpVJq",
        "outputId": "cfc59133-2bd8-4f26-a00d-3daa7e112aa7"
      },
      "source": [
        "# We read the SAT score to our RDD. Note that the use_unicode can be\n",
        "# changed accordingly to your data file to handle Unicode. If you cannot\n",
        "# parse your data due to an 'utf8' or 'ascii' decoding issue, it might\n",
        "# be a good thing to try flipping the use_unicode parameter here.\n",
        "\n",
        "sat = sc.textFile(SAT_FN, use_unicode=True).cache()\n",
        "\n",
        "# This line for us to list the column index and column names to see\n",
        "# which column we need to use for our task. In this case, we're\n",
        "# interested in the number of test takers (#2) and the math score (#4).\n",
        "list(enumerate(sat.first().split(',')))"
      ],
      "execution_count": null,
      "outputs": [
        {
          "output_type": "execute_result",
          "data": {
            "text/plain": [
              "[(0, 'DBN'),\n",
              " (1, 'SCHOOL NAME'),\n",
              " (2, 'Num of SAT Test Takers'),\n",
              " (3, 'SAT Critical Reading Avg. Score'),\n",
              " (4, 'SAT Math Avg. Score'),\n",
              " (5, 'SAT Writing Avg. Score')]"
            ]
          },
          "metadata": {},
          "execution_count": 11
        }
      ]
    },
    {
      "cell_type": "code",
      "metadata": {
        "colab": {
          "base_uri": "https://localhost:8080/"
        },
        "id": "jgB0G7Iepbnq",
        "outputId": "73aab65a-9a3d-4f1e-b01a-9c50ce70a5a7"
      },
      "source": [
        "# Note that, our data input includes a header line that we don't want to\n",
        "# use in analysis. We can remove the header line from our RDD by doing\n",
        "# a 'filter' to remove all rows that matches the header like below. Though\n",
        "# this works, it means that we have to apply the filter function on *all*\n",
        "# row, which could be a lot of computation.\n",
        "\n",
        "noHeaderRDD = sat.filter(lambda x: not x.startswith('DBN,SCHOOL'))\n",
        "print(sat.first())\n",
        "print(noHeaderRDD.first())"
      ],
      "execution_count": null,
      "outputs": [
        {
          "output_type": "stream",
          "name": "stdout",
          "text": [
            "DBN,SCHOOL NAME,Num of SAT Test Takers,SAT Critical Reading Avg. Score,SAT Math Avg. Score,SAT Writing Avg. Score\n",
            "02M047,47 THE AMERICAN SIGN LANGUAGE AND ENGLISH SECONDARY SCHOOL,16,395,400,387\n"
          ]
        }
      ]
    },
    {
      "cell_type": "code",
      "metadata": {
        "colab": {
          "base_uri": "https://localhost:8080/"
        },
        "id": "0Jem4hsNpfQr",
        "outputId": "86799fd4-7762-4910-a5db-f9769b3fc894"
      },
      "source": [
        "# Alternatively, we can perform the header checking per-partition, instead\n",
        "# of per-row like below. mapPartitions() is another type of map operators\n",
        "# in Spark that is similar to Hadoop Streaming's map(). It is many-to-many.\n",
        "# RDD in Spark are divided into partitions (as we read or as provided by\n",
        "# HDFS), each partition can be processed in parallel using a function\n",
        "# supplied to the mapPartitions() call.\n",
        "# \n",
        "# In addition to mapPartitions(), Spark also provides a variation called\n",
        "# mapPartitionsWithIndex() that provides information on which partition\n",
        "# we are currently processing. Indeed, mapPartitionsWithIndex() is the\n",
        "# the operator with the lowest overhead (since mapPartitions() get mapped\n",
        "# to mapPartitionsWithIndex) and also the most efficient one among all the\n",
        "# map operators.\n",
        "#\n",
        "# So our logic below is to use the partition index to check if we're hitting\n",
        "# the header (aka the first partition). If so, we just skip the first row.\n",
        "\n",
        "def extractScores(partId, records):\n",
        "    if partId==0:\n",
        "        next(records)\n",
        "    import csv\n",
        "    reader = csv.reader(records)\n",
        "    for row in reader:\n",
        "        if row[2]!='s': # to filter our bad-quality data\n",
        "            (dbn,takers,score) = (row[0], int(row[2]), int(row[4]))\n",
        "            yield (dbn, (score*takers, takers))\n",
        "\n",
        "satScores = sat.mapPartitionsWithIndex(extractScores)\n",
        "satScores.take(5)"
      ],
      "execution_count": null,
      "outputs": [
        {
          "output_type": "execute_result",
          "data": {
            "text/plain": [
              "[('02M047', (6400, 16)),\n",
              " ('21K410', (207575, 475)),\n",
              " ('30Q301', (43120, 98)),\n",
              " ('17K382', (22066, 59)),\n",
              " ('18K637', (13335, 35))]"
            ]
          },
          "metadata": {},
          "execution_count": 13
        }
      ]
    },
    {
      "cell_type": "code",
      "metadata": {
        "colab": {
          "base_uri": "https://localhost:8080/"
        },
        "id": "7tuDGRXcphca",
        "outputId": "f6aa6f01-f46c-477d-9d73-c246f4c5a930"
      },
      "source": [
        "# Here we do the same thing with the school directory data\n",
        "schools = sc.textFile(HSD_FN, use_unicode=True).cache()\n",
        "list(enumerate(schools.first().split(',')))"
      ],
      "execution_count": null,
      "outputs": [
        {
          "output_type": "execute_result",
          "data": {
            "text/plain": [
              "[(0, 'dbn'),\n",
              " (1, 'school_name'),\n",
              " (2, 'boro'),\n",
              " (3, 'building_code'),\n",
              " (4, 'phone_number'),\n",
              " (5, 'fax_number'),\n",
              " (6, 'grade_span_min'),\n",
              " (7, 'grade_span_max'),\n",
              " (8, 'expgrade_span_min'),\n",
              " (9, 'expgrade_span_max'),\n",
              " (10, 'bus'),\n",
              " (11, 'subway'),\n",
              " (12, 'primary_address_line_1'),\n",
              " (13, 'city'),\n",
              " (14, 'state_code'),\n",
              " (15, 'zip'),\n",
              " (16, 'website'),\n",
              " (17, 'total_students'),\n",
              " (18, 'campus_name'),\n",
              " (19, 'school_type'),\n",
              " (20, 'overview_paragraph'),\n",
              " (21, 'program_highlights'),\n",
              " (22, 'language_classes'),\n",
              " (23, 'advancedplacement_courses'),\n",
              " (24, 'online_ap_courses'),\n",
              " (25, 'online_language_courses'),\n",
              " (26, 'extracurricular_activities'),\n",
              " (27, 'psal_sports_boys'),\n",
              " (28, 'psal_sports_girls'),\n",
              " (29, 'psal_sports_coed'),\n",
              " (30, 'school_sports'),\n",
              " (31, 'partner_cbo'),\n",
              " (32, 'partner_hospital'),\n",
              " (33, 'partner_highered'),\n",
              " (34, 'partner_cultural'),\n",
              " (35, 'partner_nonprofit'),\n",
              " (36, 'partner_corporate'),\n",
              " (37, 'partner_financial'),\n",
              " (38, 'partner_other'),\n",
              " (39, 'addtl_info1'),\n",
              " (40, 'addtl_info2'),\n",
              " (41, 'start_time'),\n",
              " (42, 'end_time'),\n",
              " (43, 'se_services'),\n",
              " (44, 'ell_programs'),\n",
              " (45, 'school_accessibility_description'),\n",
              " (46, 'number_programs'),\n",
              " (47, 'priority01'),\n",
              " (48, 'priority02'),\n",
              " (49, 'priority03'),\n",
              " (50, 'priority04'),\n",
              " (51, 'priority05'),\n",
              " (52, 'priority06'),\n",
              " (53, 'priority07'),\n",
              " (54, 'priority08'),\n",
              " (55, 'priority09'),\n",
              " (56, 'priority10'),\n",
              " (57, 'Location 1')]"
            ]
          },
          "metadata": {},
          "execution_count": 14
        }
      ]
    },
    {
      "cell_type": "code",
      "metadata": {
        "id": "M0KjPdzRpkMK"
      },
      "source": [
        "def extractSchools(partId, list_of_records):\n",
        "    if partId==0: \n",
        "        next(list_of_records) # skipping the first line\n",
        "    import csv\n",
        "    reader = csv.reader(list_of_records)\n",
        "    for row in reader:\n",
        "        if len(row)==58 and row[17].isdigit():\n",
        "            (dbn, boro, total_students) = (row[0], row[2], int(row[17]))\n",
        "            if total_students>500: # filter to keep the large schools\n",
        "                yield (dbn, boro)\n",
        "\n",
        "largeSchools = schools.mapPartitionsWithIndex(extractSchools)"
      ],
      "execution_count": null,
      "outputs": []
    },
    {
      "cell_type": "code",
      "metadata": {
        "id": "lix8a2ITpn_K"
      },
      "source": [
        "scores = largeSchools.join(satScores).values() \\\n",
        "    .reduceByKey(lambda x,y: (x[0]+y[0], x[1]+y[1])) \\\n",
        "    .mapValues(lambda x: int(x[0]/x[1]))"
      ],
      "execution_count": null,
      "outputs": []
    },
    {
      "cell_type": "code",
      "metadata": {
        "colab": {
          "base_uri": "https://localhost:8080/"
        },
        "id": "ycWIARH7ppUa",
        "outputId": "797643df-52a8-4182-d6ee-14abe784f8f6"
      },
      "source": [
        "scores.collect()"
      ],
      "execution_count": null,
      "outputs": [
        {
          "output_type": "execute_result",
          "data": {
            "text/plain": [
              "[('Bronx', 470),\n",
              " ('Staten Island', 477),\n",
              " ('Manhattan', 514),\n",
              " ('Brooklyn', 487),\n",
              " ('Queens', 474)]"
            ]
          },
          "metadata": {},
          "execution_count": 17
        }
      ]
    },
    {
      "cell_type": "markdown",
      "metadata": {
        "id": "B5tDCYXAqAoM"
      },
      "source": [
        "## LAB 4 - Task 1 -- Using DataFrame"
      ]
    },
    {
      "cell_type": "code",
      "metadata": {
        "id": "pkQiqX4wrFIS"
      },
      "source": [
        "# Spark's DataFrame is part of Spark SQL, thus, we need to import\n",
        "# the appropriate package in order to use Spark's DataFrame and SQL\n",
        "from pyspark.sql.session import SparkSession\n",
        "spark = SparkSession(sc)"
      ],
      "execution_count": null,
      "outputs": []
    },
    {
      "cell_type": "code",
      "metadata": {
        "colab": {
          "base_uri": "https://localhost:8080/"
        },
        "id": "BUYnyOTtqR0a",
        "outputId": "ec2ac95f-424f-4d62-a936-65d189e7fd17"
      },
      "source": [
        "dfSchools = spark.read.load(HSD_FN, format='csv', header=True, inferSchema=True)\n",
        "dfSchools = dfSchools.na.drop(subset=['boro'])\n",
        "dfSchools = dfSchools.filter(dfSchools['total_students']>500)\n",
        "dfSchools = dfSchools.select('dbn', 'boro')\n",
        "dfSchools.count()"
      ],
      "execution_count": null,
      "outputs": [
        {
          "output_type": "execute_result",
          "data": {
            "text/plain": [
              "176"
            ]
          },
          "metadata": {
            "tags": []
          },
          "execution_count": 26
        }
      ]
    },
    {
      "cell_type": "code",
      "metadata": {
        "colab": {
          "base_uri": "https://localhost:8080/"
        },
        "id": "w1yf_hxhrPl6",
        "outputId": "01019f69-2794-4ebd-aeb6-ccf84b4758b4"
      },
      "source": [
        "dfScores = spark.read.load(SAT_FN, format='csv', header=True, inferSchema=True)\n",
        "dfScores = dfScores.select(\n",
        "    'DBN',\n",
        "    dfScores['`SAT Math Avg. Score`'].cast('int').alias('score'),\n",
        "    dfScores['Num of SAT Test Takers'].cast('int').alias('ntakers')\n",
        ").na.drop()\n",
        "dfScores1 = dfScores.select(\n",
        "    'DBN',\n",
        "    (dfScores.score*dfScores.ntakers).alias('sum'),\n",
        "    'ntakers')\n",
        "dfScores1.head()"
      ],
      "execution_count": null,
      "outputs": [
        {
          "output_type": "execute_result",
          "data": {
            "text/plain": [
              "Row(DBN='02M047', sum=6400, ntakers=16)"
            ]
          },
          "metadata": {
            "tags": []
          },
          "execution_count": 27
        }
      ]
    },
    {
      "cell_type": "code",
      "metadata": {
        "colab": {
          "base_uri": "https://localhost:8080/"
        },
        "id": "jdTUPbj0rwLq",
        "outputId": "7b233ae3-da71-4351-cbcb-4787fa6b6db8"
      },
      "source": [
        "dfResults = dfSchools.join(dfScores1, dfSchools.dbn==dfScores1.DBN, how='inner')\n",
        "dfResults = dfResults.groupBy('boro').sum('sum', 'ntakers')\n",
        "dfResults = dfResults.withColumn('avg', (dfResults[1]/dfResults[2]).cast('int'))\n",
        "dfResults = dfResults.select('boro', 'avg')\n",
        "dfResults.show()"
      ],
      "execution_count": null,
      "outputs": [
        {
          "output_type": "stream",
          "text": [
            "+-------------+---+\n",
            "|         boro|avg|\n",
            "+-------------+---+\n",
            "|       Queens|474|\n",
            "|     Brooklyn|487|\n",
            "|Staten Island|477|\n",
            "|    Manhattan|514|\n",
            "|        Bronx|470|\n",
            "+-------------+---+\n",
            "\n"
          ],
          "name": "stdout"
        }
      ]
    },
    {
      "cell_type": "markdown",
      "metadata": {
        "id": "RqmRh_w2qOI7"
      },
      "source": [
        "## LAB 4 - Task 2"
      ]
    },
    {
      "cell_type": "code",
      "metadata": {
        "id": "b6oVbv7nqD2q"
      },
      "source": [
        ""
      ],
      "execution_count": null,
      "outputs": []
    }
  ]
}